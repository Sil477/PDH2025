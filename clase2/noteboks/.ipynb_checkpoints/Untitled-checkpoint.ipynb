version https://git-lfs.github.com/spec/v1
oid sha256:8e942bf7d127f33408b90fd557750a64cb4d2e64b19ffd861f4cd2d4a0ab294c
size 11274
