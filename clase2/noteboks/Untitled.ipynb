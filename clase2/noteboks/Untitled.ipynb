{
 "cells": [
  {
   "cell_type": "markdown",
   "id": "96e6b536",
   "metadata": {},
   "source": [
    "# Técnicas Básicas de NLP en Jupyter Notebook\n",
    "\n",
    "\n",
    "Este notebook introduce algunas técnicas fundamentales del Procesamiento del Lenguaje Natural (NLP), una rama de la Inteligencia Artificial que permite a las computadoras comprender y manipular texto en lenguaje humano.\n",
    "\n",
    "Exploraremos diversas técnicas esenciales de NLP con ejemplos en español.\n",
    "\n",
    "\n",
    "\n",
    "\n",
    "\n",
    "\n"
   ]
  },
  {
   "cell_type": "code",
   "execution_count": 77,
   "id": "c2523ec1",
   "metadata": {},
   "outputs": [],
   "source": [
    "# Importación de librerías necesarias\n",
    "\n",
    "import re\n",
    "import nltk\n",
    "import spacy\n",
    "import numpy as np\n",
    "from sklearn.feature_extraction.text import CountVectorizer, TfidfVectorizer\n",
    "from nltk.tokenize import word_tokenize, sent_tokenize\n",
    "from nltk.corpus import stopwords\n",
    "from nltk.stem import PorterStemmer, WordNetLemmatizer\n",
    "from difflib import SequenceMatcher"
   ]
  },
  {
   "cell_type": "code",
   "execution_count": 78,
   "id": "15f715ab",
   "metadata": {},
   "outputs": [
    {
     "name": "stderr",
     "output_type": "stream",
     "text": [
      "[nltk_data] Downloading package punkt to\n",
      "[nltk_data]     C:\\Users\\sil46\\AppData\\Roaming\\nltk_data...\n",
      "[nltk_data]   Package punkt is already up-to-date!\n",
      "[nltk_data] Downloading package stopwords to\n",
      "[nltk_data]     C:\\Users\\sil46\\AppData\\Roaming\\nltk_data...\n",
      "[nltk_data]   Package stopwords is already up-to-date!\n",
      "[nltk_data] Downloading package wordnet to\n",
      "[nltk_data]     C:\\Users\\sil46\\AppData\\Roaming\\nltk_data...\n",
      "[nltk_data]   Package wordnet is already up-to-date!\n",
      "C:\\Users\\sil46\\anaconda3\\Lib\\site-packages\\spacy\\util.py:910: UserWarning: [W095] Model 'es_core_news_sm' (3.7.0) was trained with spaCy v3.7.0 and may not be 100% compatible with the current version (3.8.2). If you see errors or degraded performance, download a newer compatible model or retrain your custom model with the current spaCy version. For more details and available updates, run: python -m spacy validate\n",
      "  warnings.warn(warn_msg)\n"
     ]
    }
   ],
   "source": [
    "# Descargar recursos necesarios de NLTK\n",
    "nltk.download('punkt')\n",
    "nltk.download('stopwords')\n",
    "nltk.download('wordnet')\n",
    "\n",
    "# Cargar modelo de SpaCy\n",
    "nlp = spacy.load(\"es_core_news_sm\")"
   ]
  },
  {
   "cell_type": "markdown",
   "id": "5f1bc69a",
   "metadata": {},
   "source": [
    "# 1. Tokenización y Normalización\n",
    "\n",
    "La tokenización es el proceso de dividir un texto en unidades más pequeñas (tokens), como palabras o frases.\n",
    "Esto es útil para el análisis de texto, ya que permite tratar cada palabra como una entidad independiente.\n",
    "\n"
   ]
  },
  {
   "cell_type": "code",
   "execution_count": 79,
   "id": "fef5f1f6",
   "metadata": {},
   "outputs": [
    {
     "name": "stdout",
     "output_type": "stream",
     "text": [
      "Tokenización en palabras: ['Río', 'Grande', 'es', 'una', 'de', 'las', 'ciudades', 'más', 'importantes', 'de', 'la', 'provincia', 'de', 'Tierra', 'del', 'Fuego', ',', 'Antártida', 'e', 'Islas', 'del', 'Atlántico', 'Sur', ',', 'en', 'Argentina', '.', 'Ubicada', 'en', 'la', 'costa', 'noreste', 'de', 'la', 'isla', 'grande', ',', 'se', 'destaca', 'por', 'su', 'actividad', 'industrial', ',', 'especialmente', 'en', 'el', 'sector', 'electrónico', 'y', 'textil', ',', 'así', 'como', 'por', 'su', 'historia', 'vinculada', 'a', 'la', 'ganadería', 'ovina', '.', 'Además', ',', 'es', 'conocida', 'como', 'la', 'Capital', 'Nacional', 'de', 'la', 'Trucha', 'debido', 'a', 'la', 'abundancia', 'de', 'estos', 'peces', 'en', 'sus', 'ríos', ',', 'lo', 'que', 'atrae', 'a', 'pescadores', 'de', 'todo', 'el', 'mundo', '.', 'Su', 'clima', 'frío', 'y', 'ventoso', ',', 'junto', 'con', 'sus', 'paisajes', 'naturales', ',', 'la', 'convierten', 'en', 'un', 'lugar', 'único', 'en', 'el', 'extremo', 'sur', 'del', 'país', '.']\n",
      "Tokenización en oraciones: ['Río Grande es una de las ciudades más importantes de la provincia de Tierra del Fuego, Antártida e Islas del Atlántico Sur, en Argentina.', 'Ubicada en la costa noreste de la isla grande, se destaca por su actividad industrial, especialmente en el sector electrónico y textil, así como por su historia vinculada a la ganadería ovina.', 'Además, es conocida como la Capital Nacional de la Trucha debido a la abundancia de estos peces en sus ríos, lo que atrae a pescadores de todo el mundo.', 'Su clima frío y ventoso, junto con sus paisajes naturales, la convierten en un lugar único en el extremo sur del país.']\n"
     ]
    }
   ],
   "source": [
    "texto = \"Río Grande es una de las ciudades más importantes de la provincia de Tierra del Fuego, Antártida e Islas del Atlántico Sur, en Argentina. Ubicada en la costa noreste de la isla grande, se destaca por su actividad industrial, especialmente en el sector electrónico y textil, así como por su historia vinculada a la ganadería ovina. Además, es conocida como la \"\"Capital Nacional de la Trucha debido a la abundancia de estos peces en sus ríos, lo que atrae a pescadores de todo el mundo. Su clima frío y ventoso, junto con sus paisajes naturales, la convierten en un lugar único en el extremo sur del país.\"\n",
    "palabras_tokenizadas = word_tokenize(texto, language=\"spanish\")\n",
    "oraciones_tokenizadas = sent_tokenize(texto, language=\"spanish\")\n",
    "print(\"Tokenización en palabras:\", palabras_tokenizadas)\n",
    "print(\"Tokenización en oraciones:\", oraciones_tokenizadas)\n",
    "\n"
   ]
  },
  {
   "cell_type": "code",
   "execution_count": 32,
   "id": "b2e5b55c",
   "metadata": {},
   "outputs": [
    {
     "ename": "SyntaxError",
     "evalue": "invalid syntax (908849721.py, line 5)",
     "output_type": "error",
     "traceback": [
      "\u001b[1;36m  Cell \u001b[1;32mIn[32], line 5\u001b[1;36m\u001b[0m\n\u001b[1;33m    Signos ortográficos\u001b[0m\n\u001b[1;37m           ^\u001b[0m\n\u001b[1;31mSyntaxError\u001b[0m\u001b[1;31m:\u001b[0m invalid syntax\n"
     ]
    }
   ],
   "source": [
    "# Vemos que en castellano, el lenguaje natural (escrito) puede tener distintas fuentes de variaciones:\n",
    "\n",
    "Mayúsculas\n",
    "Tildes\n",
    "Signos ortográficos\n",
    "Errores de tipeo\n",
    "Variaciones propias del lenguaje como la conjugación\n",
    "Artefactos de la escritura informal como \"\"holaaa\"\"\n",
    "¿Cómo abordarán esto nuestros algorítmos?\n",
    "\n",
    "Una solución es la normalización: con acepción similar aunque distinta a la que usamos en estadística, va a significar transformar a los strings a representaciones iguales.\n",
    "\n",
    "Podemos:\n",
    "\n",
    "Sacar espacios\n",
    "Pasar a minúsculas\n",
    "Quitar tildes"
   ]
  },
  {
   "cell_type": "code",
   "execution_count": 83,
   "id": "54e91200",
   "metadata": {},
   "outputs": [],
   "source": [
    "\n",
    "import torch\n",
    "import torch.nn as nn\n",
    "\n",
    "class ModeloPLN(nn.Module):\n",
    "    def __init__(self, vocab_size, embed_dim):\n",
    "        super().__init__()\n",
    "        self.embedding = nn.Embedding(vocab_size, embed_dim)\n",
    "        self.fc = nn.Linear(embed_dim, 1)\n",
    "\n",
    "    def forward(self, x):\n",
    "        x = self.embedding(x).mean(dim=1)\n",
    "        return torch.sigmoid(self.fc(x))\n"
   ]
  },
  {
   "cell_type": "code",
   "execution_count": 33,
   "id": "b4d37e27",
   "metadata": {},
   "outputs": [
    {
     "name": "stdout",
     "output_type": "stream",
     "text": [
      "Hola Mundo\n"
     ]
    }
   ],
   "source": [
    "print(\"Hola Mundo\")"
   ]
  },
  {
   "cell_type": "code",
   "execution_count": 80,
   "id": "28e5cb05",
   "metadata": {},
   "outputs": [],
   "source": [
    "from tensorflow.keras.models import Sequential\n",
    "from tensorflow.keras.layers import Embedding, LSTM, Dense\n",
    "\n",
    "# Definir modelo\n",
    "model = Sequential([\n",
    "    Embedding(input_dim=10000, output_dim=64),\n",
    "    LSTM(64),\n",
    "    Dense(1, activation='sigmoid')\n",
    "])\n",
    "\n",
    "# Compilar modelo\n",
    "model.compile(optimizer='adam', loss='binary_crossentropy', metrics=['accuracy'])"
   ]
  },
  {
   "cell_type": "code",
   "execution_count": 82,
   "id": "5c7aa1ab",
   "metadata": {},
   "outputs": [],
   "source": [
    "\n",
    "\n",
    "import tensorflow as tf\n",
    "from tensorflow import keras\n",
    "\n",
    "# Modelo de lenguaje simple\n",
    "model = keras.Sequential([\n",
    "    keras.layers.Embedding(input_dim=10000, output_dim=16),\n",
    "    keras.layers.GlobalAveragePooling1D(),\n",
    "    keras.layers.Dense(16, activation='relu'),\n",
    "    keras.layers.Dense(1, activation='sigmoid')\n",
    "])\n"
   ]
  },
  {
   "cell_type": "code",
   "execution_count": 58,
   "id": "39901f57",
   "metadata": {},
   "outputs": [
    {
     "name": "stdout",
     "output_type": "stream",
     "text": [
      "📂 Carpeta actual: C:\\Users\\sil46\\PDH2025\\clase2\\noteboks\n",
      "📄 Archivos en la carpeta: ['.ipynb_checkpoints', 'comentarios.csv', 'TecnicasBasicasNPL.ipynb', 'Untitled.ipynb']\n"
     ]
    },
    {
     "ename": "UnicodeDecodeError",
     "evalue": "'utf-8' codec can't decode byte 0xf3 in position 14: invalid continuation byte",
     "output_type": "error",
     "traceback": [
      "\u001b[1;31m---------------------------------------------------------------------------\u001b[0m",
      "\u001b[1;31mUnicodeDecodeError\u001b[0m                        Traceback (most recent call last)",
      "File \u001b[1;32mparsers.pyx:1120\u001b[0m, in \u001b[0;36mpandas._libs.parsers.TextReader._convert_tokens\u001b[1;34m()\u001b[0m\n",
      "File \u001b[1;32mparsers.pyx:1272\u001b[0m, in \u001b[0;36mpandas._libs.parsers.TextReader._convert_with_dtype\u001b[1;34m()\u001b[0m\n",
      "File \u001b[1;32mparsers.pyx:1285\u001b[0m, in \u001b[0;36mpandas._libs.parsers.TextReader._string_convert\u001b[1;34m()\u001b[0m\n",
      "File \u001b[1;32mparsers.pyx:1535\u001b[0m, in \u001b[0;36mpandas._libs.parsers._string_box_utf8\u001b[1;34m()\u001b[0m\n",
      "\u001b[1;31mUnicodeDecodeError\u001b[0m: 'utf-8' codec can't decode byte 0xf3 in position 14: invalid continuation byte",
      "\nDuring handling of the above exception, another exception occurred:\n",
      "\u001b[1;31mUnicodeDecodeError\u001b[0m                        Traceback (most recent call last)",
      "Cell \u001b[1;32mIn[58], line 14\u001b[0m\n\u001b[0;32m     12\u001b[0m \u001b[38;5;66;03m# Intenta cargar el archivo si existe\u001b[39;00m\n\u001b[0;32m     13\u001b[0m \u001b[38;5;28;01mif\u001b[39;00m os\u001b[38;5;241m.\u001b[39mpath\u001b[38;5;241m.\u001b[39mexists(archivo):\n\u001b[1;32m---> 14\u001b[0m     dataset \u001b[38;5;241m=\u001b[39m pd\u001b[38;5;241m.\u001b[39mread_csv(archivo, encoding\u001b[38;5;241m=\u001b[39m\u001b[38;5;124m'\u001b[39m\u001b[38;5;124mutf-8\u001b[39m\u001b[38;5;124m'\u001b[39m)\n\u001b[0;32m     15\u001b[0m     dataset[\u001b[38;5;124m'\u001b[39m\u001b[38;5;124mtexto\u001b[39m\u001b[38;5;124m'\u001b[39m] \u001b[38;5;241m=\u001b[39m dataset[\u001b[38;5;124m'\u001b[39m\u001b[38;5;124mtexto\u001b[39m\u001b[38;5;124m'\u001b[39m]\u001b[38;5;241m.\u001b[39mastype(\u001b[38;5;28mstr\u001b[39m)\u001b[38;5;241m.\u001b[39mstr\u001b[38;5;241m.\u001b[39mlower()\n\u001b[0;32m     16\u001b[0m     \u001b[38;5;28mprint\u001b[39m(dataset\u001b[38;5;241m.\u001b[39mhead())\n",
      "File \u001b[1;32m~\\anaconda3\\Lib\\site-packages\\pandas\\io\\parsers\\readers.py:1026\u001b[0m, in \u001b[0;36mread_csv\u001b[1;34m(filepath_or_buffer, sep, delimiter, header, names, index_col, usecols, dtype, engine, converters, true_values, false_values, skipinitialspace, skiprows, skipfooter, nrows, na_values, keep_default_na, na_filter, verbose, skip_blank_lines, parse_dates, infer_datetime_format, keep_date_col, date_parser, date_format, dayfirst, cache_dates, iterator, chunksize, compression, thousands, decimal, lineterminator, quotechar, quoting, doublequote, escapechar, comment, encoding, encoding_errors, dialect, on_bad_lines, delim_whitespace, low_memory, memory_map, float_precision, storage_options, dtype_backend)\u001b[0m\n\u001b[0;32m   1013\u001b[0m kwds_defaults \u001b[38;5;241m=\u001b[39m _refine_defaults_read(\n\u001b[0;32m   1014\u001b[0m     dialect,\n\u001b[0;32m   1015\u001b[0m     delimiter,\n\u001b[1;32m   (...)\u001b[0m\n\u001b[0;32m   1022\u001b[0m     dtype_backend\u001b[38;5;241m=\u001b[39mdtype_backend,\n\u001b[0;32m   1023\u001b[0m )\n\u001b[0;32m   1024\u001b[0m kwds\u001b[38;5;241m.\u001b[39mupdate(kwds_defaults)\n\u001b[1;32m-> 1026\u001b[0m \u001b[38;5;28;01mreturn\u001b[39;00m _read(filepath_or_buffer, kwds)\n",
      "File \u001b[1;32m~\\anaconda3\\Lib\\site-packages\\pandas\\io\\parsers\\readers.py:626\u001b[0m, in \u001b[0;36m_read\u001b[1;34m(filepath_or_buffer, kwds)\u001b[0m\n\u001b[0;32m    623\u001b[0m     \u001b[38;5;28;01mreturn\u001b[39;00m parser\n\u001b[0;32m    625\u001b[0m \u001b[38;5;28;01mwith\u001b[39;00m parser:\n\u001b[1;32m--> 626\u001b[0m     \u001b[38;5;28;01mreturn\u001b[39;00m parser\u001b[38;5;241m.\u001b[39mread(nrows)\n",
      "File \u001b[1;32m~\\anaconda3\\Lib\\site-packages\\pandas\\io\\parsers\\readers.py:1923\u001b[0m, in \u001b[0;36mTextFileReader.read\u001b[1;34m(self, nrows)\u001b[0m\n\u001b[0;32m   1916\u001b[0m nrows \u001b[38;5;241m=\u001b[39m validate_integer(\u001b[38;5;124m\"\u001b[39m\u001b[38;5;124mnrows\u001b[39m\u001b[38;5;124m\"\u001b[39m, nrows)\n\u001b[0;32m   1917\u001b[0m \u001b[38;5;28;01mtry\u001b[39;00m:\n\u001b[0;32m   1918\u001b[0m     \u001b[38;5;66;03m# error: \"ParserBase\" has no attribute \"read\"\u001b[39;00m\n\u001b[0;32m   1919\u001b[0m     (\n\u001b[0;32m   1920\u001b[0m         index,\n\u001b[0;32m   1921\u001b[0m         columns,\n\u001b[0;32m   1922\u001b[0m         col_dict,\n\u001b[1;32m-> 1923\u001b[0m     ) \u001b[38;5;241m=\u001b[39m \u001b[38;5;28mself\u001b[39m\u001b[38;5;241m.\u001b[39m_engine\u001b[38;5;241m.\u001b[39mread(  \u001b[38;5;66;03m# type: ignore[attr-defined]\u001b[39;00m\n\u001b[0;32m   1924\u001b[0m         nrows\n\u001b[0;32m   1925\u001b[0m     )\n\u001b[0;32m   1926\u001b[0m \u001b[38;5;28;01mexcept\u001b[39;00m \u001b[38;5;167;01mException\u001b[39;00m:\n\u001b[0;32m   1927\u001b[0m     \u001b[38;5;28mself\u001b[39m\u001b[38;5;241m.\u001b[39mclose()\n",
      "File \u001b[1;32m~\\anaconda3\\Lib\\site-packages\\pandas\\io\\parsers\\c_parser_wrapper.py:234\u001b[0m, in \u001b[0;36mCParserWrapper.read\u001b[1;34m(self, nrows)\u001b[0m\n\u001b[0;32m    232\u001b[0m \u001b[38;5;28;01mtry\u001b[39;00m:\n\u001b[0;32m    233\u001b[0m     \u001b[38;5;28;01mif\u001b[39;00m \u001b[38;5;28mself\u001b[39m\u001b[38;5;241m.\u001b[39mlow_memory:\n\u001b[1;32m--> 234\u001b[0m         chunks \u001b[38;5;241m=\u001b[39m \u001b[38;5;28mself\u001b[39m\u001b[38;5;241m.\u001b[39m_reader\u001b[38;5;241m.\u001b[39mread_low_memory(nrows)\n\u001b[0;32m    235\u001b[0m         \u001b[38;5;66;03m# destructive to chunks\u001b[39;00m\n\u001b[0;32m    236\u001b[0m         data \u001b[38;5;241m=\u001b[39m _concatenate_chunks(chunks)\n",
      "File \u001b[1;32mparsers.pyx:838\u001b[0m, in \u001b[0;36mpandas._libs.parsers.TextReader.read_low_memory\u001b[1;34m()\u001b[0m\n",
      "File \u001b[1;32mparsers.pyx:921\u001b[0m, in \u001b[0;36mpandas._libs.parsers.TextReader._read_rows\u001b[1;34m()\u001b[0m\n",
      "File \u001b[1;32mparsers.pyx:1066\u001b[0m, in \u001b[0;36mpandas._libs.parsers.TextReader._convert_column_data\u001b[1;34m()\u001b[0m\n",
      "File \u001b[1;32mparsers.pyx:1127\u001b[0m, in \u001b[0;36mpandas._libs.parsers.TextReader._convert_tokens\u001b[1;34m()\u001b[0m\n",
      "File \u001b[1;32mparsers.pyx:1272\u001b[0m, in \u001b[0;36mpandas._libs.parsers.TextReader._convert_with_dtype\u001b[1;34m()\u001b[0m\n",
      "File \u001b[1;32mparsers.pyx:1285\u001b[0m, in \u001b[0;36mpandas._libs.parsers.TextReader._string_convert\u001b[1;34m()\u001b[0m\n",
      "File \u001b[1;32mparsers.pyx:1535\u001b[0m, in \u001b[0;36mpandas._libs.parsers._string_box_utf8\u001b[1;34m()\u001b[0m\n",
      "\u001b[1;31mUnicodeDecodeError\u001b[0m: 'utf-8' codec can't decode byte 0xf3 in position 14: invalid continuation byte"
     ]
    }
   ],
   "source": [
    "import os\n",
    "import pandas as pd\n",
    "\n",
    "archivo = 'comentarios.csv'\n",
    "\n",
    "# Verifica la carpeta donde se está ejecutando el notebook\n",
    "print(f\"📂 Carpeta actual: {os.getcwd()}\")\n",
    "\n",
    "# Lista los archivos disponibles\n",
    "print(f\"📄 Archivos en la carpeta: {os.listdir()}\")\n",
    "\n",
    "# Intenta cargar el archivo si existe\n",
    "if os.path.exists(archivo):\n",
    "    dataset = pd.read_csv(archivo, encoding='utf-8')\n",
    "    dataset['texto'] = dataset['texto'].astype(str).str.lower()\n",
    "    print(dataset.head())\n",
    "else:\n",
    "    print(f\"❌ Error: El archivo '{archivo}' no fue encontrado en la carpeta actual.\")\n"
   ]
  },
  {
   "cell_type": "code",
   "execution_count": 70,
   "id": "5f9a4f2c",
   "metadata": {},
   "outputs": [
    {
     "name": "stdout",
     "output_type": "stream",
     "text": [
      "                            texto etiqueta (opcional)\n",
      "0        \"me encantó la película\"            positivo\n",
      "1      \"el servicio fue terrible\"            negativo\n",
      "2         \"la comida estaba bien\"             neutral\n",
      "3     \"no volveré a comprar aquí\"            negativo\n",
      "4  \"excelente atención y rapidez\"            positivo\n"
     ]
    }
   ],
   "source": [
    "import os\n",
    "import pandas as pd\n",
    "\n",
    "archivo = 'comentarios.csv'\n",
    "\n",
    "# Verifica si el archivo existe\n",
    "if os.path.exists(archivo):  \n",
    "    # Lee el archivo con codificación alternativa para evitar errores\n",
    "    dataset = pd.read_csv(archivo, encoding='latin1', sep=';')  \n",
    "    dataset['texto'] = dataset['texto'].astype(str).str.lower()\n",
    "    \n",
    "    print(dataset.head())\n",
    "else:\n",
    "    print(f\" Error: El archivo '{archivo}' no fue encontrado en la carpeta actual.\")\n",
    "\n"
   ]
  },
  {
   "cell_type": "markdown",
   "id": "87e92a2b",
   "metadata": {},
   "source": [
    "# 2. Expresiones Regulares\n",
    "\n",
    "Las expresiones regulares permiten encontrar patrones en textos.\n",
    "Aquí buscamos la palabra 'procesamiento' dentro del texto.\n"
   ]
  },
  {
   "cell_type": "code",
   "execution_count": 72,
   "id": "8e60e2b7",
   "metadata": {},
   "outputs": [
    {
     "name": "stdout",
     "output_type": "stream",
     "text": [
      "[0.1 0.2 0.3]\n"
     ]
    }
   ],
   "source": [
    "import numpy as np\n",
    "\n",
    "# Simulación de embeddings de palabras\n",
    "palabras = {\"hola\": np.array([0.1, 0.2, 0.3]), \"mundo\": np.array([0.4, 0.5, 0.6])}\n",
    "print(palabras[\"hola\"])  # Representación numérica de \"hola\""
   ]
  },
  {
   "cell_type": "code",
   "execution_count": 73,
   "id": "96a6f5e4",
   "metadata": {},
   "outputs": [
    {
     "data": {
      "image/png": "[encoded data removed]",
      "text/plain": [
       "<Figure size 640x480 with 1 Axes>"
      ]
     },
     "metadata": {},
     "output_type": "display_data"
    }
   ],
   "source": [
    "import matplotlib.pyplot as plt\n",
    "from collections import Counter\n",
    "\n",
    "datos = [\"hola\", \"mundo\", \"hola\", \"python\"]\n",
    "conteo = Counter(datos)\n",
    "plt.bar(conteo.keys(), conteo.values())\n",
    "plt.show()\n"
   ]
  },
  {
   "cell_type": "code",
   "execution_count": 51,
   "id": "ff4a9616",
   "metadata": {},
   "outputs": [
    {
     "name": "stdout",
     "output_type": "stream",
     "text": [
      "Coincidencias de 'el': []\n"
     ]
    }
   ],
   "source": [
    "patron = r\"\\b[Pp]rocesamiento\\b\"\n",
    "coincidencias = re.findall(patron, texto)\n",
    "print(\"Coincidencias de 'el':\", coincidencias)"
   ]
  },
  {
   "cell_type": "code",
   "execution_count": 74,
   "id": "66e0c775",
   "metadata": {},
   "outputs": [
    {
     "name": "stderr",
     "output_type": "stream",
     "text": [
      "C:\\Users\\sil46\\anaconda3\\Lib\\site-packages\\seaborn\\_oldcore.py:1119: FutureWarning: use_inf_as_na option is deprecated and will be removed in a future version. Convert inf values to NaN before operating instead.\n",
      "  with pd.option_context('mode.use_inf_as_na', True):\n"
     ]
    },
    {
     "data": {
      "image/png": "[encoded data removed]",
      "text/plain": [
       "<Figure size 640x480 with 1 Axes>"
      ]
     },
     "metadata": {},
     "output_type": "display_data"
    }
   ],
   "source": [
    "import seaborn as sns\n",
    "\n",
    "longitudes = [len(palabra) for palabra in datos]\n",
    "sns.histplot(longitudes, kde=True)\n",
    "plt.show()"
   ]
  },
  {
   "cell_type": "markdown",
   "id": "654f10f4",
   "metadata": {},
   "source": [
    "# 3. Uso de NLTK - Stop Words\n",
    "\n",
    "Las 'stop words' son palabras comunes que suelen eliminarse en el análisis de texto,\n",
    "ya que no aportan demasiado significado (ejemplo: 'el', 'es', 'de').\n",
    "\n",
    "\n",
    "\n"
   ]
  },
  {
   "cell_type": "code",
   "execution_count": 76,
   "id": "2368e89c",
   "metadata": {},
   "outputs": [],
   "source": [
    "from scipy.signal import butter, filtfilt\n",
    "import numpy as np\n",
    "\n",
    "# Crear una señal de ejemplo\n",
    "fs = 1000  # Frecuencia de muestreo\n",
    "t = np.linspace(0, 1, fs, endpoint=False)\n",
    "senal = np.sin(2 * np.pi * 5 * t)  # Señal senoidal\n",
    "\n",
    "# Filtrado\n",
    "b, a = butter(4, 0.1)\n",
    "senal_filtrada = filtfilt(b, a, senal)\n"
   ]
  },
  {
   "cell_type": "code",
   "execution_count": 52,
   "id": "2ee45a20",
   "metadata": {},
   "outputs": [
    {
     "name": "stdout",
     "output_type": "stream",
     "text": [
      "Texto sin stop words: ['Río', 'Grande', 'ciudades', 'importantes', 'provincia', 'Tierra', 'Fuego', ',', 'Antártida', 'Islas', 'Atlántico', 'Sur', ',', 'Argentina', '.', 'Ubicada', 'costa', 'noreste', 'isla', 'grande', ',', 'destaca', 'actividad', 'industrial', ',', 'especialmente', 'sector', 'electrónico', 'textil', ',', 'así', 'historia', 'vinculada', 'ganadería', 'ovina', '.', 'Además', ',', 'conocida', 'Capital', 'Nacional', 'Trucha', 'debido', 'abundancia', 'peces', 'ríos', ',', 'atrae', 'pescadores', 'mundo', '.', 'clima', 'frío', 'ventoso', ',', 'junto', 'paisajes', 'naturales', ',', 'convierten', 'lugar', 'único', 'extremo', 'sur', 'país', '.']\n"
     ]
    }
   ],
   "source": [
    "stop_words = set(stopwords.words('spanish'))\n",
    "palabras_filtradas = [palabra for palabra in palabras_tokenizadas if palabra.lower() not in stop_words]\n",
    "print(\"Texto sin stop words:\", palabras_filtradas)"
   ]
  },
  {
   "cell_type": "markdown",
   "id": "940ed32e",
   "metadata": {},
   "source": [
    "# 4. Distancias entre strings\n",
    "\"\"\"\n",
    "Las distancias entre cadenas permiten comparar similitud entre palabras,\n",
    "lo que es útil para la corrección ortográfica y el análisis de variantes.\n",
    "\"\"\""
   ]
  },
  {
   "cell_type": "code",
   "execution_count": 53,
   "id": "e0497857",
   "metadata": {},
   "outputs": [
    {
     "name": "stdout",
     "output_type": "stream",
     "text": [
      "Similitud entre 'lenguaje' y 'lengua': 0.8571428571428571\n"
     ]
    }
   ],
   "source": [
    "def similaridad_cadena(cadena1, cadena2):\n",
    "    return SequenceMatcher(None, cadena1, cadena2).ratio()\n",
    "print(\"Similitud entre 'lenguaje' y 'lengua':\", similaridad_cadena(\"lenguaje\", \"lengua\"))\n"
   ]
  },
  {
   "cell_type": "markdown",
   "id": "515a0e00",
   "metadata": {},
   "source": [
    "# 5. Vectorización\n",
    "\"\"\"\n",
    "La vectorización convierte el texto en una representación numérica.\n",
    "Aquí usamos la técnica de Bolsa de Palabras (BoW), que cuenta la frecuencia de cada palabra.\n",
    "\"\"\""
   ]
  },
  {
   "cell_type": "code",
   "execution_count": 27,
   "id": "bbf5a891",
   "metadata": {},
   "outputs": [
    {
     "name": "stdout",
     "output_type": "stream",
     "text": [
      "Representación BoW: [[1 1 1 1 1 1 1 1 1 1 2 1 1 1 1 5 2 1 1 1 7 1 4 1 1 1 1 1 1 1 1 4 1 1 1 1\n",
      "  1 1 5 1 1 1 1 1 1 1 1 1 1 4 1 1 1 1 1 1 1 1 1 1 1 1 3 1 1 1]]\n",
      "Palabras en el vocabulario: ['actividad' 'argentina' 'atlántico' 'atrayendo' 'capital' 'caracterizan'\n",
      " 'caudalosos' 'clima' 'combina' 'comunidad' 'con' 'constante' 'convertido'\n",
      " 'corazón' 'crecimiento' 'de' 'del' 'desarrollo' 'dándole' 'económico'\n",
      " 'el' 'electrónico' 'en' 'es' 'está' 'extremo' 'frío' 'fríos' 'fuego'\n",
      " 'fuerte' 'ganadería' 'grande' 'han' 'historia' 'identidad'\n",
      " 'impresionantes' 'impulsó' 'industrial' 'la' 'ligada' 'mundo' 'nacional'\n",
      " 'naturales' 'orillas' 'ovina' 'paisajes' 'pescadores' 'pujante' 'que'\n",
      " 'río' 'ríos' 'sector' 'siglo' 'su' 'sur' 'sus' 'textil' 'tierra' 'todo'\n",
      " 'trabajadora' 'trucha' 'un' 'una' 'viento' 'xx' 'única']\n"
     ]
    }
   ],
   "source": [
    "corpus = [\n",
    "    \"Río Grande es el corazón industrial de Tierra del Fuego, con un fuerte desarrollo en el sector electrónico y textil.\"\n",
    "    \"Sus ríos caudalosos y fríos la han convertido en la 'Capital Nacional de la Trucha', atrayendo pescadores de todo el mundo.\"\n",
    "    \"El viento constante y el clima frío caracterizan a Río Grande, dándole una identidad única en el extremo sur de Argentina.\"\n",
    "    \"La historia de Río Grande está ligada a la ganadería ovina, una actividad que impulsó su crecimiento económico en el siglo XX.\"\n",
    "    \"A orillas del Atlántico, Río Grande combina paisajes naturales impresionantes con una comunidad pujante y trabajadora.\",\n",
    "   ]\n",
    "vectorizador = CountVectorizer()\n",
    "X = vectorizador.fit_transform(corpus)\n",
    "print(\"Representación BoW:\", X.toarray())\n",
    "print(\"Palabras en el vocabulario:\", vectorizador.get_feature_names_out())"
   ]
  },
  {
   "cell_type": "markdown",
   "id": "9317d43d",
   "metadata": {},
   "source": [
    "# 6. N-gramas\n",
    "\"\"\"\n",
    "Los N-gramas permiten analizar secuencias de palabras en lugar de palabras individuales.\n",
    "Aquí extraemos bigramas (pares de palabras).\n",
    "\"\"\"\n",
    "\n",
    "\n"
   ]
  },
  {
   "cell_type": "code",
   "execution_count": 28,
   "id": "97031450",
   "metadata": {},
   "outputs": [
    {
     "name": "stdout",
     "output_type": "stream",
     "text": [
      "Bigramas: ['actividad que' 'argentina la' 'atlántico río' 'atrayendo pescadores'\n",
      " 'capital nacional' 'caracterizan río' 'caudalosos fríos' 'clima frío'\n",
      " 'combina paisajes' 'comunidad pujante' 'con un' 'con una' 'constante el'\n",
      " 'convertido en' 'corazón industrial' 'crecimiento económico'\n",
      " 'de argentina' 'de la' 'de río' 'de tierra' 'de todo' 'del atlántico'\n",
      " 'del fuego' 'desarrollo en' 'dándole una' 'económico en' 'el clima'\n",
      " 'el corazón' 'el extremo' 'el mundo' 'el sector' 'el siglo' 'el viento'\n",
      " 'electrónico textil' 'en el' 'en la' 'es el' 'está ligada' 'extremo sur'\n",
      " 'frío caracterizan' 'fríos la' 'fuego con' 'fuerte desarrollo'\n",
      " 'ganadería ovina' 'grande combina' 'grande dándole' 'grande es'\n",
      " 'grande está' 'han convertido' 'historia de' 'identidad única'\n",
      " 'impresionantes con' 'impulsó su' 'industrial de' 'la capital'\n",
      " 'la ganadería' 'la han' 'la historia' 'la trucha' 'ligada la' 'mundo el'\n",
      " 'nacional de' 'naturales impresionantes' 'orillas del' 'ovina una'\n",
      " 'paisajes naturales' 'pescadores de' 'pujante trabajadora' 'que impulsó'\n",
      " 'río grande' 'ríos caudalosos' 'sector electrónico' 'siglo xx'\n",
      " 'su crecimiento' 'sur de' 'sus ríos' 'textil sus' 'tierra del' 'todo el'\n",
      " 'trucha atrayendo' 'un fuerte' 'una actividad' 'una comunidad'\n",
      " 'una identidad' 'viento constante' 'xx orillas' 'única en']\n"
     ]
    }
   ],
   "source": [
    "vectorizador_ngrams = CountVectorizer(ngram_range=(2,2))\n",
    "X_ngrams = vectorizador_ngrams.fit_transform(corpus)\n",
    "print(\"Bigramas:\", vectorizador_ngrams.get_feature_names_out())"
   ]
  },
  {
   "cell_type": "markdown",
   "id": "6fbd5e7a",
   "metadata": {},
   "source": [
    "# 7. Stemming\n",
    "\"\"\"\n",
    "El stemming reduce las palabras a su raíz, eliminando sufijos.\n",
    "Puede ayudar a agrupar palabras con significados similares.\n",
    "\"\"\"\n",
    "\n"
   ]
  },
  {
   "cell_type": "code",
   "execution_count": 29,
   "id": "bdd822a6",
   "metadata": {},
   "outputs": [
    {
     "name": "stdout",
     "output_type": "stream",
     "text": [
      "Stemming: ['procesamiento', 'lenguaj', 'natur', 'permit', 'máquina', 'entend', 'lenguaj', 'humano', '.', 'área', 'fascinant', 'inteligencia', 'artifici', '.']\n"
     ]
    }
   ],
   "source": [
    "stemmer = PorterStemmer()\n",
    "palabras_stemmed = [stemmer.stem(palabra) for palabra in palabras_filtradas]\n",
    "print(\"Stemming:\", palabras_stemmed)\n"
   ]
  },
  {
   "cell_type": "markdown",
   "id": "befeed0e",
   "metadata": {},
   "source": [
    "# 8. Lematización\n",
    "\"\"\"\n",
    "La lematización transforma las palabras a su forma base respetando su gramática,\n",
    "lo que mejora el análisis en comparación con el stemming.\n",
    "\"\"\"\n",
    "lemmatizer = WordNetLemmatizer()\n",
    "palabras_lemmatized = [lemmatizer.lemmatize(palabra) for palabra in palabras_filtradas]\n",
    "print(\"Lematización:\", palabras_lemmatized)\n",
    "\n"
   ]
  },
  {
   "cell_type": "markdown",
   "id": "5a154fd2",
   "metadata": {},
   "source": [
    "# 9. Uso de SpaCy - Análisis Morfológico\n",
    "\"\"\"\n",
    "SpaCy permite realizar análisis morfológico, extrayendo información gramatical de las palabras.\n",
    "Aquí mostramos la lematización con SpaCy.\n",
    "\"\"\"\n",
    "doc = nlp(texto)\n",
    "print(\"Lematización con SpaCy:\", [token.lemma_ for token in doc])\n",
    "\n"
   ]
  },
  {
   "cell_type": "markdown",
   "id": "32847977",
   "metadata": {},
   "source": [
    "# 10. Limitaciones de Bolsa de Palabras\n",
    "\"\"\"\n",
    "TF-IDF (Term Frequency - Inverse Document Frequency) mejora la representación del texto\n",
    "dando más importancia a palabras clave en un conjunto de documentos.\n",
    "\"\"\"\n",
    "vectorizador_tfidf = TfidfVectorizer()\n",
    "X_tfidf = vectorizador_tfidf.fit_transform(corpus)\n",
    "print(\"TF-IDF:\", X_tfidf.toarray())\n",
    "\n"
   ]
  },
  {
   "cell_type": "markdown",
   "id": "012126a0",
   "metadata": {},
   "source": [
    "# 11. Análisis de Sentimiento con SpaCy\n",
    "\"\"\"\n",
    "Los modelos de análisis de sentimiento pueden evaluar si un texto tiene una connotación positiva, negativa o neutra.\n",
    "Aquí analizamos una reseña sobre NLP.\n",
    "\"\"\"\n",
    "doc = nlp(\"Me fascina el procesamiento del lenguaje natural, pero a veces puede ser desafiante.\")\n",
    "print(\"Tokens y sus sentimientos:\", [(token.text, token.sentiment) for token in doc])\n",
    "\n",
    "### Actividad para los estudiantes:\n",
    "\"\"\"\n",
    "1. Prueba la tokenización con un texto de tu elección.\n",
    "2. Modifica el patrón de expresiones regulares para encontrar la palabra 'inteligencia'.\n",
    "3. Agrega más frases a la vectorización y analiza los resultados.\n",
    "4. Prueba con otras frases en el análisis de sentimiento.\n",
    "\"\"\""
   ]
  },
  {
   "cell_type": "code",
   "execution_count": null,
   "id": "2dc50b28",
   "metadata": {},
   "outputs": [],
   "source": []
  },
  {
   "cell_type": "code",
   "execution_count": null,
   "id": "a6adaa54",
   "metadata": {},
   "outputs": [],
   "source": []
  }
 ],
 "metadata": {
  "kernelspec": {
   "display_name": "Python 3 (ipykernel)",
   "language": "python",
   "name": "python3"
  },
  "language_info": {
   "codemirror_mode": {
    "name": "ipython",
    "version": 3
   },
   "file_extension": ".py",
   "mimetype": "text/x-python",
   "name": "python",
   "nbconvert_exporter": "python",
   "pygments_lexer": "ipython3",
   "version": "3.11.7"
  }
 },
 "nbformat": 4,
 "nbformat_minor": 5
}
