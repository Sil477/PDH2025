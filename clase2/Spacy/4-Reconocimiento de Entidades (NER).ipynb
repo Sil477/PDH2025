{
 "cells": [
  {
   "cell_type": "markdown",
   "id": "a398ff44",
   "metadata": {},
   "source": [
    "CLASIFICACION DE ENTIDADES"
   ]
  },
  {
   "cell_type": "code",
   "execution_count": null,
   "id": "4f633b61",
   "metadata": {},
   "outputs": [],
   "source": [
    "import spacy          #carga de libreria spacy"
   ]
  },
  {
   "cell_type": "code",
   "execution_count": null,
   "id": "25a821d8",
   "metadata": {},
   "outputs": [],
   "source": [
    "# En Terminal ejecutar para carga del modelo en español: spacy download es_core_news_lg\n",
    "nlp = spacy.load('es_core_news_lg')     #carga de modelo \"large\", mas completo que el utilizado anteriormente"
   ]
  },
  {
   "cell_type": "code",
   "execution_count": null,
   "id": "34825998",
   "metadata": {},
   "outputs": [],
   "source": [
    "texto = \"Tesla, que nació y se crio en el Imperio austríaco, estudió ingeniería y física en la década de 1870 sin obtener un título, aunque adquirió experiencia práctica a principios de la década de 1880 trabajando en telefonía para la empresa Continental Edison, que por entonces lideraba la nueva industria de la energía eléctrica\"\n",
    "documento = nlp(texto)      #creamos: documento"
   ]
  },
  {
   "cell_type": "code",
   "execution_count": null,
   "id": "f33b4d15",
   "metadata": {},
   "outputs": [],
   "source": [
    "print(len(documento))      #vemos su longitud (tokens)"
   ]
  },
  {
   "cell_type": "code",
   "execution_count": null,
   "id": "77b9acb5",
   "metadata": {},
   "outputs": [],
   "source": [
    "for entidad in documento.ents:          #recorrer el texto buscando entidades\n",
    "    print(entidad.text, entidad.label_)"
   ]
  },
  {
   "cell_type": "code",
   "execution_count": null,
   "id": "4d9561ca",
   "metadata": {},
   "outputs": [],
   "source": [
    "print(spacy.explain('PER'))        #ver significado de etiquetas\n",
    "print(spacy.explain('ORG'))"
   ]
  },
  {
   "cell_type": "code",
   "execution_count": null,
   "id": "e8f2b04a",
   "metadata": {},
   "outputs": [],
   "source": [
    "print(type(documento.ents))          #vemos la generación de una TUPLA\n",
    "print(type(documento.ents[0]))       #los elementos de esa TUPLA son del tipo SPAN"
   ]
  },
  {
   "cell_type": "code",
   "execution_count": null,
   "id": "b58e2409",
   "metadata": {},
   "outputs": [],
   "source": [
    "#NUEVO EJEMPLO\n",
    "texto = \"El monte Olivia es un cerro situado en el sector argentino de la isla Grande de Tierra del Fuego, Provincia de Tierra del Fuego, Antártida e Islas del Atlántico Sur.\"\n",
    "documento = nlp(texto)\n",
    "for entidad in documento.ents:                  #buscamos y reconocemos entidades\n",
    "    print(entidad.text, entidad.label_)"
   ]
  },
  {
   "cell_type": "code",
   "execution_count": null,
   "id": "b7697fc6",
   "metadata": {},
   "outputs": [],
   "source": [
    "print(spacy.explain('LOC'))    #vemos que tipo de entidad es 'LOC'"
   ]
  },
  {
   "cell_type": "code",
   "execution_count": null,
   "id": "8f7be729",
   "metadata": {},
   "outputs": [],
   "source": [
    "#NUEVO EJEMPLO\n",
    "texto = \"El lago Escondido es un lago de Tierra del Fuego, Argentina, también conocido como laguna Escondida, se encuentra en cercanía de la localidad de Lago Escondido.\"\n",
    "documento = nlp(texto)\n",
    "for entidad in documento.ents:\n",
    "    print(entidad.text, entidad.label_)"
   ]
  },
  {
   "cell_type": "code",
   "execution_count": null,
   "id": "66e8aaa5",
   "metadata": {},
   "outputs": [],
   "source": [
    "texto = \"\"\"\n",
    "Marcas individuales\n",
    "General\n",
    "Más torneos ganados: Bandera de Brasil Pelé con 3 (1958, 1962 y 1970).\n",
    "Más torneos jugados: seis jugadores han disputado el torneo en 5 ocasiones.n 1​\n",
    "Bandera de México Antonio Carbajal (1950, 1954, 1958, 1962, 1966)\n",
    "Bandera de Alemania Lothar Matthäus (1982, 1986, 1990, 1994, 1998)\n",
    "Bandera de México Rafael Márquez (2002, 2006, 2010, 2014, 2018)\n",
    "Bandera de Argentina Lionel Messi (2006, 2010, 2014, 2018, 2022)\n",
    "Bandera de Portugal Cristiano Ronaldo (2006, 2010, 2014, 2018, 2022)\n",
    "Bandera de México Andrés Guardado (2006, 2010, 2014, 2018, 2022)\n",
    "Más partidos jugados: Bandera de Argentina Lionel Messi (entre 2006 y 2022) con 26.\n",
    "Más minutos jugados: Bandera de Argentina Lionel Messi con 2315 minutos (entre 2006 y 2022).\n",
    "Más partidos ganados: Bandera de Alemania Miroslav Klose con 17 (entre 2002 y 2014).\n",
    "Más finales alcanzadas: cinco jugadores han alcanzado la final del torneo en 3 ocasiones.\n",
    "Bandera de Brasil Pelé (1958, 1962, 1970)\n",
    "Bandera de Brasil Cafú (1994, 1998, 2002)\n",
    "Bandera de Brasil Ronaldo (1994, 1998, 2002)\n",
    "Bandera de Alemania Lothar Matthäus (1982, 1986, 1990)\n",
    "Bandera de Alemania Pierre Littbarski (1982, 1986, 1990).\n",
    "Más finales consecutivas alcanzadas: cuatro jugadores han alcanzado la final del torneo en 3 ocasiones consecutivas.\n",
    "Bandera de Brasil Cafú (1994, 1998, 2002)\n",
    "Bandera de Brasil Ronaldo (1994, 1998, 2002)\n",
    "Bandera de Alemania Lothar Matthäus (1982, 1986, 1990)\n",
    "Bandera de Alemania Pierre Littbarski (1982, 1986, 1990).\n",
    "Más finales jugadas: Bandera de Brasil Cafú con 3 (1994, 1998, 2002).\n",
    "Más partidos jugados como capitán:\n",
    "Bandera de Argentina Lionel Messi con 19 (2010, 2014, 2018 y 2022).\n",
    "Más partidos como sustituto: Bandera de Brasil Denilson con 11 (1998 y 2002).\n",
    "Más joven en un partido: Bandera de Irlanda del Norte Norman Whiteside con 17 años y 42 días (contra Yugoslavia en 1982).\n",
    "Más joven en una final: Bandera de Brasil Pelé con 17 años y 249 días (contra Suecia en 1958).\n",
    "Más joven en un partido clasificatorio: Bandera de Togo Souleymane Mamam con 13 años y 310 días (contra Zambia en las clasificatorias para 2002, el 6 de mayo de 2001).7​\n",
    "Más joven en un partido como capitán: Bandera de Estados Unidos Tony Meola con 21 años y 316 días (contra Checoslovaquia en 1990).8​\n",
    "Más veterano en un partido: Bandera de Egipto Essam El-Hadary con 45 años y 161 días (contra Arabia Saudita en 2018).9​10​\n",
    "Más veterano en una final: Bandera de Italia Dino Zoff con 40 años y 133 días (contra Alemania Federal en 1982).\n",
    "Más veterano en un partido clasificatorio: Bandera de Islas Vírgenes de los Estados Unidos MacDonald Taylor con 46 años y 180 días (contra Bandera de San Cristobal y Nieves San Cristóbal y Nieves en clasificatorias para 2006, el 18 de febrero de 2004).11​\n",
    "Más veterano en un partido como capitán: Bandera de Egipto Essam El-Hadary con 45 años y 161 días (contra Arabia Saudita en 2018).\n",
    "Mayor diferencia de edad en un equipo: Bandera de Camerún Camerún con 23 años y 358 días, en 1994 (entre Rigobert Song, con 18 años y 10 días, y Roger Milla, con 42 años y 1 día).\n",
    "Mayor diferencia de edad en un equipo campeón: Bandera de Italia Italia con 21 años y 297 días, en 1982 (entre Giuseppe Bergomi, con 18 años y 201 días, y Dino Zoff, con 40 años y 133 días).\n",
    "Mayor período entre dos participaciones como jugador: Bandera de Colombia Faryd Mondragón con 15 años y 363 días (1998 y 2014).\n",
    "Mayor período entre dos participaciones en general: 44 años, Bandera de Brasil Tim (en 1938 como jugador; Perú, en 1982 como entrenador).\n",
    "Menor periodo entre debut deportivo y debut en mundiales: Bandera de Dinamarca Christian Eriksen con 147 días (2010).[cita requerida]\n",
    "Goles\n",
    "Mayor cantidad de goles anotados en el torneo: 172 (2022).\n",
    "Primer gol: Bandera de Francia Lucien Laurent ante México en 1930.\n",
    "Primer gol de penal: Bandera de México Manuel Rosas ante Argentina en 1930.\n",
    "Primer gol de penal en una final: Bandera de los Países Bajos Johan Neeskens ante Alemania Federal en 1974.\n",
    "Primer jugador en fallar un penal en una final: Bandera de Italia Antonio Cabrini ante Alemania Federal en 1982.\n",
    "Más goles anotados: Bandera de Alemania Miroslav Klose con 16 (2002, 2006, 2010 y 2014).\n",
    "Más goles anotados en fase clasificatoria: Bandera de Guatemala Carlos Ruiz con 39 (entre 1998 y 2015).\n",
    "Más goles anotados en un solo torneo: Bandera de Francia Just Fontaine con 13 en 1958.\n",
    "Más goles anotados en un solo partido: Bandera de Rusia Oleg Salenko con 5, contra Camerún en 1994.\n",
    "Más goles anotados en una derrota: Bandera de Polonia Ernest Wilimowski con 4, contra Brasil en 1938.\n",
    "Más goles anotados en un partido clasificatorio: Bandera de Australia Archie Thompson con 13, contra Samoa Americana en las clasificatorias para 2002.\n",
    "Más goles anotados en una final: Bandera de Inglaterra Geoff Hurst y Bandera de Francia Kylian Mbappé con 3 cada uno.\n",
    "Más goles anotados en finales: Bandera de Francia Kylian Mbappé, con 4.\n",
    "Primer gol olímpico: Bandera de Colombia Marcos Coll ante la Unión Soviética en 1962.\n",
    "Primer gol de oro: Bandera de Francia Laurent Blanc ante Paraguay en 1998.\n",
    "Último gol de oro: Bandera de Turquía Ilhan Mansiz ante Senegal en 2002.\n",
    "Gol más rápido: Bandera de Turquía Hakan Şükür a los 11 segundos ante Corea del Sur en 2002.\n",
    "Gol más tardío: Bandera de Italia Alessandro Del Piero ante Alemania en 2006, y Bandera de Argelia Abdelmoumene Djabou ante Alemania en 2014, ambos a los 121 minutos.\n",
    "Gol más rápido en una final: Bandera de los Países Bajos Johan Neeskens ante Alemania Federal en 1974 al minuto 1 y 27 segundos.\n",
    "Gol más tardío en una final: Bandera de Inglaterra Geoff Hurst ante Alemania Federal en 1966 a los 120 minutos.\n",
    "Doblete más rápido: Bandera de Alemania Toni Kroos en 69 segundos ante Brasil en 2014.\n",
    "Primer autogol anotado: Bandera de México Manuel Rosas ante Chile en 1930.\n",
    "Autogol más rápido: Bandera de Bosnia y Herzegovina Sead Kolašinac a los 2 minutos y 9 segundos, ante Argentina en 2014.\n",
    "Primer autogol en una final: Bandera de Croacia Mario Mandžukić ante Bandera de Francia Francia en 2018.\n",
    "Jugador debutante más joven en convertir un gol: Bandera de Brasil Pelé con 17 años y 239 días de edad, contra Gales en 1958.\n",
    "Jugador debutante más veterano en convertir un gol: Bandera de Panamá Felipe Baloy con 37 años y 120 días de edad, contra Inglaterra en 2018.\n",
    "Jugador más joven en convertir un gol: Bandera de Brasil Pelé con 17 años y 239 días de edad, ante Gales en 1958.\n",
    "Jugador más veterano en convertir un gol: Bandera de Camerún Roger Milla con 42 años y 39 días de edad ante Rusia en 1994.\n",
    "Único jugador en convertir un hat-trick en dos mundiales distintos: Bandera de Argentina Gabriel Batistuta ante Grecia en 1994 y Jamaica en 1998.\n",
    "Único jugador en convertir gol en cinco mundiales distintos: Bandera de Portugal Cristiano Ronaldo (2006, 2010, 2014, 2018 y 2022).\n",
    "Único jugador en anotar en todas las fases de un mundial: Bandera de Argentina Lionel Messi en 2022.\n",
    "Único jugador en anotar en todos los partidos de un mundial: Bandera de Brasil Jairzinho en 1970.\n",
    "Asistencias\n",
    "Más asistencias: Bandera de Brasil Pelé con 10 (1958-1970)12​\n",
    "Más asistencias en un solo torneo: Bandera de Brasil Pelé con 6, en 197013​\n",
    "Más asistencias en un solo partido: Bandera de Polonia Robert Gadocha con 4, contra Haití en 1974.14​15​\n",
    "Más asistencias en una final: Bandera de Brasil Pelé con 2, contra Italia en 1970.\n",
    "Más asistencias en finales: Bandera de Brasil Pelé con 316​\n",
    "Entrenadores\n",
    "Más torneos ganados: Bandera de Italia Vittorio Pozzo, 2 (1934 y 1938).\n",
    "Más torneos dirigidos: Bandera de Brasil Carlos Alberto Parreira, 6 (1982, 1990, 1994, 1998, 2006 y 2010).\n",
    "Más partidos dirigidos: Bandera de Alemania Helmut Schön, 25 (1966, 1970, 1974 y 1978).\n",
    "Más partidos ganados: Bandera de Alemania Helmut Schön, 16 (1966, 1970, 1974 y 1978).\n",
    "\"\"\"\n"
   ]
  },
  {
   "cell_type": "code",
   "execution_count": null,
   "id": "9d90411f",
   "metadata": {},
   "outputs": [],
   "source": [
    "documento = nlp(texto)     #generación de: 'documento'"
   ]
  },
  {
   "cell_type": "code",
   "execution_count": null,
   "id": "abdb61d0",
   "metadata": {},
   "outputs": [],
   "source": [
    "print(len(documento))         #cantidad de tokens\n",
    "print(len(documento.ents))    #cantidad de entidades"
   ]
  },
  {
   "cell_type": "code",
   "execution_count": null,
   "id": "d42d1472",
   "metadata": {},
   "outputs": [],
   "source": [
    "for entidad in documento.ents:        #recorremos la tupla buscando la entidad PER 'persona'\n",
    "    if entidad.label_ == \"PER\":\n",
    "        if entidad.text == \"Lionel Messi\":\n",
    "            con = con + 1\n",
    "print(\"Lionel Messi figura \",con, \"veces en el documento\")"
   ]
  },
  {
   "cell_type": "code",
   "execution_count": null,
   "id": "ef489487",
   "metadata": {},
   "outputs": [],
   "source": [
    "#NUEVO EJEMPLO\n",
    "text = open(\"Cloud computing.txt\", encoding='utf-8').read()"
   ]
  },
  {
   "cell_type": "code",
   "execution_count": null,
   "id": "cc81bc71",
   "metadata": {},
   "outputs": [],
   "source": [
    "# En Terminal ejecutar para carga del modelo en INGLES: spacy download en_core_web_md\n",
    "nlp = spacy.load('en_core_web_md')\n",
    "document = nlp(text)"
   ]
  },
  {
   "cell_type": "code",
   "execution_count": null,
   "id": "2f439b46",
   "metadata": {},
   "outputs": [],
   "source": [
    "print(len(document))     #cantidad de tokens"
   ]
  },
  {
   "cell_type": "code",
   "execution_count": null,
   "id": "d9ab34fd",
   "metadata": {},
   "outputs": [],
   "source": [
    "print(len(document.ents))   #cantidad de identidades"
   ]
  },
  {
   "cell_type": "code",
   "execution_count": null,
   "id": "0a194741",
   "metadata": {},
   "outputs": [],
   "source": [
    "\"\"\"En el archivo \"Cloud computing.txt\", se muestra los aportes de distintas empresas,\n",
    "   en relación a la tecnología de uso de almacenamiento y procesamiento en la nube\n",
    "\"\"\"\n",
    "#busqueda en el texto de nombres de empresas\n",
    "for named_entity in document.ents:\n",
    "    if named_entity.label_ == \"ORG\":\n",
    "        print(named_entity)"
   ]
  }
 ],
 "metadata": {
  "kernelspec": {
   "display_name": "Python 3 (ipykernel)",
   "language": "python",
   "name": "python3"
  },
  "language_info": {
   "codemirror_mode": {
    "name": "ipython",
    "version": 3
   },
   "file_extension": ".py",
   "mimetype": "text/x-python",
   "name": "python",
   "nbconvert_exporter": "python",
   "pygments_lexer": "ipython3",
   "version": "3.9.10"
  }
 },
 "nbformat": 4,
 "nbformat_minor": 5
}
