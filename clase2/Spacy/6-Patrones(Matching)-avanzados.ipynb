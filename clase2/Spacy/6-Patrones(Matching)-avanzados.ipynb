{
 "cells": [
  {
   "cell_type": "code",
   "execution_count": 89,
   "id": "da45abb9",
   "metadata": {},
   "outputs": [],
   "source": [
    "#PATRONES AVANZADOS\n",
    "import spacy\n",
    "from spacy.matcher import Matcher    #cargamos la libreria"
   ]
  },
  {
   "cell_type": "code",
   "execution_count": 90,
   "id": "c2cbae1c",
   "metadata": {},
   "outputs": [],
   "source": [
    "nlp = spacy.load('es_core_news_lg')    #cargamos el modelo"
   ]
  },
  {
   "cell_type": "code",
   "execution_count": 91,
   "id": "6df27650",
   "metadata": {},
   "outputs": [],
   "source": [
    "texto = \"\"\"S&P MERVAL es el principal índice del Mercado de Valores de Buenos Aires. \n",
    "Su nombre proviene del acuerdo alcanzado con el Dow Jones en el año 2019.\n",
    "En ese mismo año, luego del acuerdo alcanzado se cambió la metodología y la composición del índice bursátil argentino. \n",
    "En el caso del índice S&P Merval, pasó a estar integrado solo por las 21 empresas argentinas de mayor ponderación en el índice.\n",
    "Este índice mide el valor en pesos de una cartera de acciones que cotizan en la Bolsa de Comercio de Buenos Aires. \n",
    "El criterio de selección de estas acciones es en base al volumen operado y al número de transacciones en los últimos seis meses, \n",
    "bajo la condición necesaria de una negociación en al menos el 80% de las ruedas consideradas. \n",
    "El rebalanceo del Merval se hace trimestralmente. El índice fue desarrollado con un nivel base de $0,01 a fecha 3 de junio de 1986. \n",
    "        \"\"\""
   ]
  },
  {
   "cell_type": "code",
   "execution_count": 92,
   "id": "2d853a48",
   "metadata": {},
   "outputs": [],
   "source": [
    "documento = nlp(texto)    #generamos el documento"
   ]
  },
  {
   "cell_type": "code",
   "execution_count": 93,
   "id": "0c7f015f",
   "metadata": {},
   "outputs": [
    {
     "name": "stdout",
     "output_type": "stream",
     "text": [
      "S&P MERVAL es el principal índice del Mercado de Valores de Buenos Aires. \n",
      "\n",
      "Su nombre proviene del acuerdo alcanzado con el Dow Jones en el año 2019.\n",
      "\n",
      "En ese mismo año, luego del acuerdo alcanzado se cambió la metodología y la composición del índice bursátil argentino. \n",
      "\n",
      "En el caso del índice S&P Merval, pasó a estar integrado solo por las 21 empresas argentinas de mayor ponderación en el índice.\n",
      "\n",
      "Este índice mide el valor en pesos de una cartera de acciones que cotizan en la Bolsa de Comercio de Buenos Aires. \n",
      "\n",
      "El criterio de selección de estas acciones es en base al volumen operado y al número de transacciones en los últimos seis meses, \n",
      "bajo la condición necesaria de una negociación en al menos el 80% de las ruedas consideradas. \n",
      "\n",
      "El rebalanceo del Merval se hace trimestralmente.\n",
      "El índice fue desarrollado con un nivel base de $0,01 a fecha 3 de junio de 1986.\n",
      "\n",
      "        \n"
     ]
    }
   ],
   "source": [
    "for sent in documento.sents:\n",
    "    print(sent)"
   ]
  },
  {
   "cell_type": "code",
   "execution_count": 94,
   "id": "0c487f39",
   "metadata": {},
   "outputs": [
    {
     "name": "stdout",
     "output_type": "stream",
     "text": [
      "índice\n",
      "índice\n",
      "índice\n",
      "índice\n",
      "índice\n",
      "índice\n"
     ]
    }
   ],
   "source": [
    "patron_0 =  [{'LEMMA':'índice'}]   #nos interesa buscar un LEMMA con contenido 'indice'\n",
    "matcher_0 = Matcher(nlp.vocab)     #pasamos objeto\n",
    "matcher_0.add('índice',[patron_0])  #agregamos el patron 'indice\n",
    "resultados = matcher_0(documento, as_spans=True)  #buscamos en documento el patrol definido\n",
    "\n",
    "for resultado in resultados:\n",
    "    print(resultado)"
   ]
  },
  {
   "cell_type": "code",
   "execution_count": 95,
   "id": "11bbf0a7",
   "metadata": {},
   "outputs": [],
   "source": [
    "# https://spacy.io/api/matcher#patterns   (documentación)\n",
    "patron_1 =  [{'LEMMA':'índice'}, {'LENGTH': 8}]   #buscamos LEMMA 'indice', + otro de longitud 8 siguiente"
   ]
  },
  {
   "cell_type": "code",
   "execution_count": 96,
   "id": "03fe1064",
   "metadata": {},
   "outputs": [
    {
     "name": "stdout",
     "output_type": "stream",
     "text": [
      "índice bursátil\n"
     ]
    }
   ],
   "source": [
    "matcher_1 = Matcher(nlp.vocab)\n",
    "matcher_1.add('índices',[patron_1])\n",
    "resultados = matcher_1(documento, as_spans=True)\n",
    "\n",
    "for resultado in resultados:\n",
    "    print(resultado)"
   ]
  },
  {
   "cell_type": "code",
   "execution_count": 97,
   "id": "36d285e1",
   "metadata": {},
   "outputs": [],
   "source": [
    "patron_2 =  [{'LEMMA':'índice'},{'LENGTH': {\">=\": 3}}]   #ahora buscamos LEMMA = 'indice' y a continuación longitud >= 3"
   ]
  },
  {
   "cell_type": "code",
   "execution_count": 98,
   "id": "84bdf06b",
   "metadata": {},
   "outputs": [
    {
     "name": "stdout",
     "output_type": "stream",
     "text": [
      "índice del\n",
      "índice bursátil\n",
      "índice S&P\n",
      "índice mide\n",
      "índice fue\n"
     ]
    }
   ],
   "source": [
    "matcher_2 = Matcher(nlp.vocab)\n",
    "matcher_2.add('índices',[patron_2])\n",
    "resultados = matcher_2(documento, as_spans=True)\n",
    "\n",
    "for resultado in resultados:\n",
    "    print(resultado)                  #todos los LEMAS 'indice' + tokens longitud >= 3"
   ]
  },
  {
   "cell_type": "code",
   "execution_count": 99,
   "id": "183a217a",
   "metadata": {},
   "outputs": [],
   "source": [
    "patron_3 =  [{'LEMMA':'índice'},{'POS':'ADJ'}]   #LEMMA = 'indice' a continuación un \"ADJETIVO\""
   ]
  },
  {
   "cell_type": "code",
   "execution_count": 100,
   "id": "5dbf21c1",
   "metadata": {},
   "outputs": [
    {
     "name": "stdout",
     "output_type": "stream",
     "text": [
      "índice bursátil\n"
     ]
    }
   ],
   "source": [
    "matcher_3 = Matcher(nlp.vocab)\n",
    "matcher_3.add('índices',[patron_3])\n",
    "resultados = matcher_3(documento, as_spans=True)\n",
    "\n",
    "for resultado in resultados:\n",
    "    print(resultado)                        #adjetivo -> bursátil"
   ]
  },
  {
   "cell_type": "code",
   "execution_count": 101,
   "id": "872382af",
   "metadata": {},
   "outputs": [],
   "source": [
    "patron_4 = [{\"TEXT\": {\"REGEX\": \"[Mm][Ee][Rr][Vv][Aa][Ll]\"}}]   #definimos con \"expresiones regulares\""
   ]
  },
  {
   "cell_type": "code",
   "execution_count": 102,
   "id": "6dc810a8",
   "metadata": {},
   "outputs": [
    {
     "name": "stdout",
     "output_type": "stream",
     "text": [
      "MERVAL\n",
      "Merval\n",
      "Merval\n"
     ]
    }
   ],
   "source": [
    "matcher_4 = Matcher(nlp.vocab)\n",
    "matcher_4.add('índices',[patron_4])\n",
    "resultados = matcher_4(documento, as_spans=True)\n",
    "\n",
    "for resultado in resultados:\n",
    "    print(resultado)                         #traemos los tokens con la expresión regular definida"
   ]
  },
  {
   "cell_type": "code",
   "execution_count": 105,
   "id": "cb66e564",
   "metadata": {},
   "outputs": [
    {
     "name": "stdout",
     "output_type": "stream",
     "text": [
      "en el año 2019\n",
      "solo por las 21\n",
      "0,01 a fecha 3\n",
      "de junio de 1986\n"
     ]
    }
   ],
   "source": [
    "\"\"\" 4 elementos: 1ro que no sea signo de puntuación\n",
    "                 2do que no sea dígito\n",
    "                 3ro que no sea dígito\n",
    "                 4to que sí sea dígito\n",
    "\"\"\"\n",
    "patron_5 = [{'IS_PUNCT': False},    \n",
    "            {'IS_DIGIT': False},    \n",
    "            {'IS_DIGIT': False},    \n",
    "            {'IS_DIGIT': True}      \n",
    "           ]\n",
    "matcher_5 = Matcher(nlp.vocab)\n",
    "matcher_5.add('índices',[patron_5])\n",
    "resultados = matcher_5(documento, as_spans=True)\n",
    "\n",
    "for resultado in resultados:\n",
    "    print(resultado)"
   ]
  }
 ],
 "metadata": {
  "kernelspec": {
   "display_name": "Python 3 (ipykernel)",
   "language": "python",
   "name": "python3"
  },
  "language_info": {
   "codemirror_mode": {
    "name": "ipython",
    "version": 3
   },
   "file_extension": ".py",
   "mimetype": "text/x-python",
   "name": "python",
   "nbconvert_exporter": "python",
   "pygments_lexer": "ipython3",
   "version": "3.9.10"
  }
 },
 "nbformat": 4,
 "nbformat_minor": 5
}
