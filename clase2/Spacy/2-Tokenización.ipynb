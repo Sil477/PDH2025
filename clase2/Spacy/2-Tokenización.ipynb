{
 "cells": [
  {
   "cell_type": "code",
   "execution_count": 2,
   "id": "2e0d2993",
   "metadata": {},
   "outputs": [],
   "source": [
    "import spacy                 #carga de librería"
   ]
  },
  {
   "cell_type": "code",
   "execution_count": 3,
   "id": "baec60d6",
   "metadata": {},
   "outputs": [],
   "source": [
    "nlp = spacy.load('es_core_news_sm')     #carga del modelo en español"
   ]
  },
  {
   "cell_type": "code",
   "execution_count": 4,
   "id": "dee0668a",
   "metadata": {},
   "outputs": [
    {
     "name": "stdout",
     "output_type": "stream",
     "text": [
      "El viaje desde La Plata hasta Córdoba, en colectivo, dura alrededor de 10:55 horas y cuesta unos $55375.\n"
     ]
    }
   ],
   "source": [
    "texto = \"El viaje desde La Plata hasta Córdoba, en colectivo, dura alrededor de 10:55 horas y cuesta unos $55375.\"\n",
    "documento = nlp(texto)      #\"documento\" estará cargado por los tokens\n",
    "print(documento)"
   ]
  },
  {
   "cell_type": "code",
   "execution_count": 5,
   "id": "f2424483",
   "metadata": {},
   "outputs": [
    {
     "name": "stdout",
     "output_type": "stream",
     "text": [
      "El\n",
      "viaje\n",
      "desde\n",
      "La\n",
      "Plata\n",
      "hasta\n",
      "Córdoba\n",
      ",\n",
      "en\n",
      "colectivo\n",
      ",\n",
      "dura\n",
      "alrededor\n",
      "de\n",
      "10:55\n",
      "horas\n",
      "y\n",
      "cuesta\n",
      "unos\n",
      "$\n",
      "55375\n",
      ".\n"
     ]
    }
   ],
   "source": [
    "for elemento in documento:      #cuales son los tokens que forman a \"documento\"\n",
    "    print(elemento)"
   ]
  },
  {
   "cell_type": "code",
   "execution_count": 6,
   "id": "47807145",
   "metadata": {},
   "outputs": [
    {
     "name": "stdout",
     "output_type": "stream",
     "text": [
      "<class 'spacy.tokens.token.Token'>\n"
     ]
    }
   ],
   "source": [
    "print(type(elemento))      #vemos \"tipo de elemento\", en este caso el último"
   ]
  },
  {
   "cell_type": "code",
   "execution_count": 7,
   "id": "f858ffd9",
   "metadata": {},
   "outputs": [
    {
     "name": "stdout",
     "output_type": "stream",
     "text": [
      "El\n",
      "desde\n",
      "La\n",
      "hasta\n",
      "en\n",
      "alrededor\n",
      "de\n",
      "y\n",
      "unos\n"
     ]
    }
   ],
   "source": [
    "#los tokens contienen mucha información\n",
    "for elemento in documento:             \n",
    "    if elemento.is_stop:               #mostramos las palabras del tipo \"conectores\"\n",
    "        print(elemento)"
   ]
  },
  {
   "cell_type": "code",
   "execution_count": 8,
   "id": "908dff5b",
   "metadata": {},
   "outputs": [
    {
     "name": "stdout",
     "output_type": "stream",
     "text": [
      "False\n",
      "False\n",
      "False\n",
      "False\n",
      "False\n",
      "False\n",
      "False\n",
      "False\n",
      "False\n",
      "False\n",
      "False\n",
      "False\n",
      "False\n",
      "False\n",
      "False\n",
      "False\n",
      "False\n",
      "False\n",
      "False\n",
      "True\n",
      "False\n",
      "False\n"
     ]
    }
   ],
   "source": [
    "for elemento in documento:            \n",
    "    print(elemento.is_currency)       #representa moneda?, ver celda 4"
   ]
  },
  {
   "cell_type": "code",
   "execution_count": 9,
   "id": "6f4aa6c2",
   "metadata": {},
   "outputs": [
    {
     "name": "stdout",
     "output_type": "stream",
     "text": [
      "el\n",
      "viaje\n",
      "desde\n",
      "la\n",
      "plata\n",
      "hasta\n",
      "córdoba\n",
      ",\n",
      "en\n",
      "colectivo\n",
      ",\n",
      "dura\n",
      "alrededor\n",
      "de\n",
      "10:55\n",
      "horas\n",
      "y\n",
      "cuesta\n",
      "unos\n",
      "$\n",
      "55375\n",
      ".\n"
     ]
    }
   ],
   "source": [
    "for elemento in documento:             \n",
    "    print(elemento.lower_)            #conversión de letras mayúsculas a minúsculas"
   ]
  },
  {
   "cell_type": "code",
   "execution_count": 10,
   "id": "3bd3d92b",
   "metadata": {},
   "outputs": [
    {
     "name": "stdout",
     "output_type": "stream",
     "text": [
      "False\n",
      "False\n",
      "False\n",
      "False\n",
      "False\n",
      "False\n",
      "False\n",
      "True\n",
      "False\n",
      "False\n",
      "True\n",
      "False\n",
      "False\n",
      "False\n",
      "False\n",
      "False\n",
      "False\n",
      "False\n",
      "False\n",
      "False\n",
      "False\n",
      "True\n"
     ]
    }
   ],
   "source": [
    "for elemento in documento:             \n",
    "    print(elemento.is_punct)          #Representa un signo de puntuación? ver celda 4"
   ]
  },
  {
   "cell_type": "code",
   "execution_count": 11,
   "id": "2e710d82",
   "metadata": {},
   "outputs": [
    {
     "data": {
      "text/plain": [
       "22"
      ]
     },
     "execution_count": 11,
     "metadata": {},
     "output_type": "execute_result"
    }
   ],
   "source": [
    "len(documento)                      #cantidad de tokens del documento"
   ]
  },
  {
   "cell_type": "code",
   "execution_count": 12,
   "id": "1ee61700",
   "metadata": {},
   "outputs": [
    {
     "data": {
      "text/plain": [
       "El viaje desde La Plata hasta Córdoba"
      ]
     },
     "execution_count": 12,
     "metadata": {},
     "output_type": "execute_result"
    }
   ],
   "source": [
    "documento[0:7]                    #se muestran los tokens del 0 al 7"
   ]
  },
  {
   "cell_type": "code",
   "execution_count": 13,
   "id": "28ff302f",
   "metadata": {},
   "outputs": [
    {
     "data": {
      "text/plain": [
       ","
      ]
     },
     "execution_count": 13,
     "metadata": {},
     "output_type": "execute_result"
    }
   ],
   "source": [
    "documento[7]                     #se muestra el token n° 7"
   ]
  },
  {
   "cell_type": "code",
   "execution_count": 14,
   "id": "ec4c0b0f",
   "metadata": {},
   "outputs": [
    {
     "ename": "TypeError",
     "evalue": "'spacy.tokens.doc.Doc' object does not support item assignment",
     "output_type": "error",
     "traceback": [
      "\u001b[1;31m---------------------------------------------------------------------------\u001b[0m",
      "\u001b[1;31mTypeError\u001b[0m                                 Traceback (most recent call last)",
      "Cell \u001b[1;32mIn[14], line 1\u001b[0m\n\u001b[1;32m----> 1\u001b[0m \u001b[43mdocumento\u001b[49m\u001b[43m[\u001b[49m\u001b[38;5;241;43m7\u001b[39;49m\u001b[43m]\u001b[49m \u001b[38;5;241m=\u001b[39m \u001b[38;5;124m'\u001b[39m\u001b[38;5;124mCORDOBA\u001b[39m\u001b[38;5;124m'\u001b[39m       \u001b[38;5;66;03m#el tipo de objeto no permite asignaciones\u001b[39;00m\n",
      "\u001b[1;31mTypeError\u001b[0m: 'spacy.tokens.doc.Doc' object does not support item assignment"
     ]
    }
   ],
   "source": [
    "documento[7] = 'CORDOBA'       #ERROR: el tipo de objeto no permite asignaciones"
   ]
  }
 ],
 "metadata": {
  "kernelspec": {
   "display_name": "Python 3 (ipykernel)",
   "language": "python",
   "name": "python3"
  },
  "language_info": {
   "codemirror_mode": {
    "name": "ipython",
    "version": 3
   },
   "file_extension": ".py",
   "mimetype": "text/x-python",
   "name": "python",
   "nbconvert_exporter": "python",
   "pygments_lexer": "ipython3",
   "version": "3.9.13"
  }
 },
 "nbformat": 4,
 "nbformat_minor": 5
}
