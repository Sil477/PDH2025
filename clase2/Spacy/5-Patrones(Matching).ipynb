{
 "cells": [
  {
   "cell_type": "code",
   "execution_count": null,
   "id": "538aef90",
   "metadata": {},
   "outputs": [],
   "source": [
    "#USO DE PATRONES (Matching)\n",
    "import spacy\n",
    "from spacy.matcher import Matcher   #importación del la clase Matcher"
   ]
  },
  {
   "cell_type": "code",
   "execution_count": null,
   "id": "db84e450",
   "metadata": {},
   "outputs": [],
   "source": [
    "nlp = spacy.load('es_core_news_lg')   #carga modelo en español"
   ]
  },
  {
   "cell_type": "code",
   "execution_count": null,
   "id": "3570980e",
   "metadata": {},
   "outputs": [],
   "source": [
    "texto = \"\"\"La Final de la Copa Mundial de Rugby de 2019 fue un partido de rugby que \n",
    "           se jugó el 2 de noviembre de 2019 en el Estadio Internacional de Yokohama, Japón. \n",
    "           La jugaron Inglaterra y Sudáfrica, una reedición de la Final de la Copa Mundial de Rugby de 2007.\n",
    "        \"\"\""
   ]
  },
  {
   "cell_type": "code",
   "execution_count": null,
   "id": "7f4d393e",
   "metadata": {},
   "outputs": [],
   "source": [
    "documento = nlp(texto)   #creamos el objeto \"documento\" con el texto de la celda anterior"
   ]
  },
  {
   "cell_type": "code",
   "execution_count": null,
   "id": "021208f3",
   "metadata": {},
   "outputs": [],
   "source": [
    "matcher = Matcher(nlp.vocab)   #creamos el objeto \"matcher\", pasandole todo el vocabulario del texto"
   ]
  },
  {
   "cell_type": "code",
   "execution_count": null,
   "id": "6b6d1902",
   "metadata": {},
   "outputs": [],
   "source": [
    "#Si queremos buscar todos los tokens que tengan como lema \"jugar\"\n",
    "patron_1 =  [{\"LEMMA\":'jugar'}]           #definimos el diccionario \"clave\":'valor'"
   ]
  },
  {
   "cell_type": "code",
   "execution_count": null,
   "id": "3f000cc7",
   "metadata": {},
   "outputs": [],
   "source": [
    "matcher.add('jugar',[patron_1])   #agregamos el patrón que creamos en la celda anterior"
   ]
  },
  {
   "cell_type": "code",
   "execution_count": null,
   "id": "ebfd05f1",
   "metadata": {},
   "outputs": [],
   "source": [
    "#matcher busca en el documento los patrones previamente agregados\n",
    "resultados = matcher(documento)"
   ]
  },
  {
   "cell_type": "code",
   "execution_count": null,
   "id": "9d204d6b",
   "metadata": {},
   "outputs": [],
   "source": [
    "print(type(resultados))    #se genera una lista"
   ]
  },
  {
   "cell_type": "code",
   "execution_count": null,
   "id": "5bc7b8a0",
   "metadata": {},
   "outputs": [],
   "source": [
    "for resultado in resultados:   #muestra la palabra (valor hash, posición inicial, posición final)\n",
    "    print(resultado)"
   ]
  },
  {
   "cell_type": "code",
   "execution_count": null,
   "id": "cb21d4b6",
   "metadata": {},
   "outputs": [],
   "source": [
    "#tomamos cada elemento de la tupla \"resultados\"\n",
    "for codigo_hash, comienzo, fin in resultados:\n",
    "    print(\"<<< Nuevo match >>>\")    \n",
    "    print(\"--- Lemma\")\n",
    "    print(nlp.vocab.strings[codigo_hash])    \n",
    "    print(\"--- Palabra encontrada\")\n",
    "    print(documento[comienzo:fin])"
   ]
  },
  {
   "cell_type": "code",
   "execution_count": null,
   "id": "3b054ccd",
   "metadata": {},
   "outputs": [],
   "source": [
    "#verificamos que los objetos encontrados son del tipo \"Span\"\n",
    "matcher = Matcher(nlp.vocab)\n",
    "matcher.add('jugar',[patron_1])\n",
    "resultados = matcher(documento, as_spans=True)\n",
    "\n",
    "for resultado in resultados:\n",
    "    print(type(resultado))\n",
    "    print(resultado)"
   ]
  },
  {
   "cell_type": "code",
   "execution_count": null,
   "id": "a353ceed",
   "metadata": {},
   "outputs": [],
   "source": [
    "#traer los tokens que son solo \"dígitos\"\n",
    "patron_2 =  [{\"IS_DIGIT\":True}]\n",
    "matcher.add('num', [patron_2])\n",
    "resultados = matcher(documento, as_spans=True)\n",
    "for resultado in resultados:\n",
    "    print(resultado)\n",
    "\n",
    "#como resultado se muestra: patron_1 / patron_2"
   ]
  },
  {
   "cell_type": "code",
   "execution_count": null,
   "id": "bd83ad09",
   "metadata": {},
   "outputs": [],
   "source": [
    "#para obtener solo el patron_2 se debe eliminar el patron_1\n",
    "matcher.remove('jugar')\n",
    "resultados = matcher(documento, as_spans=True)\n",
    "for resultado in resultados:\n",
    "    print(resultado)"
   ]
  }
 ],
 "metadata": {
  "kernelspec": {
   "display_name": "Python 3 (ipykernel)",
   "language": "python",
   "name": "python3"
  },
  "language_info": {
   "codemirror_mode": {
    "name": "ipython",
    "version": 3
   },
   "file_extension": ".py",
   "mimetype": "text/x-python",
   "name": "python",
   "nbconvert_exporter": "python",
   "pygments_lexer": "ipython3",
   "version": "3.9.10"
  }
 },
 "nbformat": 4,
 "nbformat_minor": 5
}
