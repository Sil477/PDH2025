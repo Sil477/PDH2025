{
 "cells": [
  {
   "cell_type": "code",
   "execution_count": 1,
   "id": "b0cb71cd",
   "metadata": {},
   "outputs": [
    {
     "name": "stdout",
     "output_type": "stream",
     "text": [
      "Características (palabras únicas) usando CountVectorizer:\n",
      "['artificial' 'clave' 'del' 'el' 'en' 'es' 'habla' 'inteligencia'\n",
      " 'interesante' 'lenguaje' 'natural' 'para' 'procesamiento' 'útil']\n",
      "\n",
      "Matriz de características (Conteo de términos):\n",
      "[[0 0 1 1 0 1 0 0 1 1 1 0 1 0]\n",
      " [1 0 0 1 1 1 0 1 0 1 1 0 0 1]\n",
      " [0 1 1 2 0 1 1 0 0 0 0 1 2 0]]\n"
     ]
    }
   ],
   "source": [
    "# Importamos las librerías necesarias\n",
    "from sklearn.feature_extraction.text import CountVectorizer\n",
    "\n",
    "# Definimos un conjunto de textos\n",
    "texts = [\n",
    "    \"El procesamiento del lenguaje natural es interesante\",\n",
    "    \"El lenguaje natural es útil en inteligencia artificial\",\n",
    "    \"El procesamiento es clave para el procesamiento del habla\"\n",
    "]\n",
    "\n",
    "# Crear el conteo de palabras con CountVectorizer (TF)\n",
    "count_vectorizer = CountVectorizer()\n",
    "\n",
    "# Convertimos los textos a la matriz de características (frecuencia de términos)\n",
    "X_count = count_vectorizer.fit_transform(texts)\n",
    "\n",
    "# Mostramos las características (palabras únicas)\n",
    "print(\"Características (palabras únicas) usando CountVectorizer:\")\n",
    "print(count_vectorizer.get_feature_names_out())\n",
    "\n",
    "# Mostramos la matriz de conteo de términos\n",
    "dense_matrix_count = X_count.toarray()\n",
    "print(\"\\nMatriz de características (Conteo de términos):\")\n",
    "print(dense_matrix_count)\n"
   ]
  },
  {
   "cell_type": "code",
   "execution_count": null,
   "id": "b349dd15",
   "metadata": {},
   "outputs": [],
   "source": []
  }
 ],
 "metadata": {
  "kernelspec": {
   "display_name": "Python 3 (ipykernel)",
   "language": "python",
   "name": "python3"
  },
  "language_info": {
   "codemirror_mode": {
    "name": "ipython",
    "version": 3
   },
   "file_extension": ".py",
   "mimetype": "text/x-python",
   "name": "python",
   "nbconvert_exporter": "python",
   "pygments_lexer": "ipython3",
   "version": "3.11.7"
  }
 },
 "nbformat": 4,
 "nbformat_minor": 5
}
