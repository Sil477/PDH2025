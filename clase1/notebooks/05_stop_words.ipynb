{
 "cells": [
  {
   "cell_type": "code",
   "execution_count": 1,
   "id": "63c16c03",
   "metadata": {},
   "outputs": [
    {
     "name": "stdout",
     "output_type": "stream",
     "text": [
      "Tokens originales: ['El', 'procesamiento', 'del', 'lenguaje', 'natural', 'es', 'esencial', 'en', 'la', 'inteligencia', 'artificial', '.']\n",
      "Tokens después de eliminar las stopwords: ['procesamiento', 'lenguaje', 'natural', 'esencial', 'inteligencia', 'artificial', '.']\n"
     ]
    },
    {
     "name": "stderr",
     "output_type": "stream",
     "text": [
      "[nltk_data] Downloading package stopwords to\n",
      "[nltk_data]     C:\\Users\\sil46\\AppData\\Roaming\\nltk_data...\n",
      "[nltk_data]   Package stopwords is already up-to-date!\n",
      "[nltk_data] Downloading package punkt to\n",
      "[nltk_data]     C:\\Users\\sil46\\AppData\\Roaming\\nltk_data...\n",
      "[nltk_data]   Package punkt is already up-to-date!\n"
     ]
    }
   ],
   "source": [
    "# Importamos las librerías necesarias\n",
    "import nltk\n",
    "from nltk.corpus import stopwords\n",
    "from nltk.tokenize import word_tokenize\n",
    "\n",
    "# Descargamos el recurso de stopwords si no lo tienes\n",
    "nltk.download('stopwords')\n",
    "nltk.download('punkt')\n",
    "\n",
    "# Definimos el texto de ejemplo\n",
    "text = \"El procesamiento del lenguaje natural es esencial en la inteligencia artificial.\"\n",
    "\n",
    "# Tokenizamos el texto\n",
    "tokens = word_tokenize(text)\n",
    "\n",
    "# Cargamos las stopwords en español desde NLTK\n",
    "stop_words = set(stopwords.words('spanish'))\n",
    "\n",
    "# Filtramos las palabras de parada\n",
    "filtered_tokens = [word for word in tokens if word.lower() not in stop_words]\n",
    "\n",
    "# Mostramos los resultados\n",
    "print(\"Tokens originales:\", tokens)\n",
    "print(\"Tokens después de eliminar las stopwords:\", filtered_tokens)\n"
   ]
  },
  {
   "cell_type": "code",
   "execution_count": null,
   "id": "b13791b9",
   "metadata": {},
   "outputs": [],
   "source": []
  }
 ],
 "metadata": {
  "kernelspec": {
   "display_name": "Python 3 (ipykernel)",
   "language": "python",
   "name": "python3"
  },
  "language_info": {
   "codemirror_mode": {
    "name": "ipython",
    "version": 3
   },
   "file_extension": ".py",
   "mimetype": "text/x-python",
   "name": "python",
   "nbconvert_exporter": "python",
   "pygments_lexer": "ipython3",
   "version": "3.11.7"
  }
 },
 "nbformat": 4,
 "nbformat_minor": 5
}
