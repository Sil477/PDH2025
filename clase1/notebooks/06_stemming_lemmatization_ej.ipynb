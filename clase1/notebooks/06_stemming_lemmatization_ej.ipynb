{
 "cells": [
  {
   "cell_type": "code",
   "execution_count": 1,
   "id": "caae7e25",
   "metadata": {},
   "outputs": [
    {
     "name": "stderr",
     "output_type": "stream",
     "text": [
      "[nltk_data] Downloading package punkt to\n",
      "[nltk_data]     C:\\Users\\sil46\\AppData\\Roaming\\nltk_data...\n",
      "[nltk_data]   Package punkt is already up-to-date!\n",
      "C:\\Users\\sil46\\anaconda3\\Lib\\site-packages\\spacy\\util.py:910: UserWarning: [W095] Model 'es_core_news_sm' (3.7.0) was trained with spaCy v3.7.0 and may not be 100% compatible with the current version (3.8.2). If you see errors or degraded performance, download a newer compatible model or retrain your custom model with the current spaCy version. For more details and available updates, run: python -m spacy validate\n",
      "  warnings.warn(warn_msg)\n"
     ]
    },
    {
     "name": "stdout",
     "output_type": "stream",
     "text": [
      "Stemming (NLTK): ['los', 'niñ', 'estan', 'corr', 'y', 'jug', 'en', 'el', 'parqu', '.']\n",
      "Lemmatization (spaCy): ['el', 'niño', 'estar', 'correr', 'y', 'jugar', 'en', 'el', 'parque', '.']\n"
     ]
    }
   ],
   "source": [
    "# 06_stemming_lemmatization_ej.ipynb\n",
    "# Comparación de Stemming y Lemmatization con NLTK y spaCy\n",
    "\n",
    "# Importar librerías necesarias\n",
    "import nltk\n",
    "from nltk.stem import SnowballStemmer\n",
    "import spacy\n",
    "\n",
    "# Descargar recursos de NLTK\n",
    "nltk.download('punkt')\n",
    "\n",
    "# Inicializar el stemmer de NLTK para español\n",
    "stemmer = SnowballStemmer(\"spanish\")\n",
    "\n",
    "# Crear función de Stemming con NLTK\n",
    "def apply_stemming(text):\n",
    "    words = nltk.word_tokenize(text)\n",
    "    return [stemmer.stem(word) for word in words]\n",
    "\n",
    "# Función de Lemmatization con spaCy\n",
    "def apply_lemmatization(text, nlp):\n",
    "    doc = nlp(text)\n",
    "    return [token.lemma_ for token in doc]\n",
    "\n",
    "# Cargar modelo de spaCy en español\n",
    "nlp = spacy.load('es_core_news_sm')\n",
    "\n",
    "# Ejemplo de texto\n",
    "text = \"Los niños están corriendo y jugando en el parque.\"\n",
    "\n",
    "# Aplicar Stemming (NLTK)\n",
    "stemmed_words = apply_stemming(text)\n",
    "print(\"Stemming (NLTK):\", stemmed_words)\n",
    "\n",
    "# Aplicar Lemmatization (spaCy)\n",
    "lemmatized_words = apply_lemmatization(text, nlp)\n",
    "print(\"Lemmatization (spaCy):\", lemmatized_words)\n"
   ]
  },
  {
   "cell_type": "code",
   "execution_count": null,
   "id": "2136d52d",
   "metadata": {},
   "outputs": [],
   "source": []
  }
 ],
 "metadata": {
  "kernelspec": {
   "display_name": "Python 3 (ipykernel)",
   "language": "python",
   "name": "python3"
  },
  "language_info": {
   "codemirror_mode": {
    "name": "ipython",
    "version": 3
   },
   "file_extension": ".py",
   "mimetype": "text/x-python",
   "name": "python",
   "nbconvert_exporter": "python",
   "pygments_lexer": "ipython3",
   "version": "3.11.7"
  }
 },
 "nbformat": 4,
 "nbformat_minor": 5
}
