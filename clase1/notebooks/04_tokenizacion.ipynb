{
 "cells": [
  {
   "cell_type": "code",
   "execution_count": 1,
   "id": "c7ca3309",
   "metadata": {},
   "outputs": [
    {
     "name": "stderr",
     "output_type": "stream",
     "text": [
      "[nltk_data] Downloading package punkt to\n",
      "[nltk_data]     C:\\Users\\sil46\\AppData\\Roaming\\nltk_data...\n",
      "[nltk_data]   Package punkt is already up-to-date!\n",
      "C:\\Users\\sil46\\anaconda3\\Lib\\site-packages\\spacy\\util.py:910: UserWarning: [W095] Model 'es_core_news_sm' (3.7.0) was trained with spaCy v3.7.0 and may not be 100% compatible with the current version (3.8.2). If you see errors or degraded performance, download a newer compatible model or retrain your custom model with the current spaCy version. For more details and available updates, run: python -m spacy validate\n",
      "  warnings.warn(warn_msg)\n"
     ]
    },
    {
     "name": "stdout",
     "output_type": "stream",
     "text": [
      "Tokens usando NLTK:\n",
      "['El', 'procesamiento', 'del', 'lenguaje', 'natural', 'es', 'esencial', 'en', 'la', 'inteligencia', 'artificial', '.']\n",
      "\n",
      "Tokens usando spaCy:\n",
      "['El', 'procesamiento', 'del', 'lenguaje', 'natural', 'es', 'esencial', 'en', 'la', 'inteligencia', 'artificial', '.']\n"
     ]
    }
   ],
   "source": [
    "# Importamos las librerías necesarias\n",
    "import nltk\n",
    "import spacy\n",
    "from nltk.tokenize import word_tokenize\n",
    "\n",
    "# Descargamos recursos de NLTK necesarios (si no los tienes)\n",
    "nltk.download('punkt')\n",
    "\n",
    "# Ejemplo de texto\n",
    "text = \"El procesamiento del lenguaje natural es esencial en la inteligencia artificial.\"\n",
    "\n",
    "# Tokenización con NLTK\n",
    "nltk_tokens = word_tokenize(text)\n",
    "print(\"Tokens usando NLTK:\")\n",
    "print(nltk_tokens)\n",
    "\n",
    "# Cargar el modelo de lenguaje en español de spaCy\n",
    "nlp = spacy.load(\"es_core_news_sm\")\n",
    "\n",
    "# Tokenización con spaCy\n",
    "doc = nlp(text)\n",
    "spacy_tokens = [token.text for token in doc]\n",
    "print(\"\\nTokens usando spaCy:\")\n",
    "print(spacy_tokens)\n"
   ]
  },
  {
   "cell_type": "code",
   "execution_count": null,
   "id": "e9556a85",
   "metadata": {},
   "outputs": [],
   "source": []
  }
 ],
 "metadata": {
  "kernelspec": {
   "display_name": "Python 3 (ipykernel)",
   "language": "python",
   "name": "python3"
  },
  "language_info": {
   "codemirror_mode": {
    "name": "ipython",
    "version": 3
   },
   "file_extension": ".py",
   "mimetype": "text/x-python",
   "name": "python",
   "nbconvert_exporter": "python",
   "pygments_lexer": "ipython3",
   "version": "3.11.7"
  }
 },
 "nbformat": 4,
 "nbformat_minor": 5
}
