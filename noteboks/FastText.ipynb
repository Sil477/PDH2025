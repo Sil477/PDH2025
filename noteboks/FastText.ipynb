{
 "cells": [
  {
   "cell_type": "markdown",
   "metadata": {},
   "source": [
    "## FastText"
   ]
  },
  {
   "cell_type": "markdown",
   "metadata": {},
   "source": [
    "INSTALAMOS LA LIBRERIA\n",
    "\n",
    "pip install fasttext\n",
    "\n",
    "posiblemente salda el siguiente error:\n",
    "\"Microsoft Visual C++ 14.0 or greater is required. FIXED. (pip install web3 error)\"\n"
   ]
  },
  {
   "cell_type": "markdown",
   "metadata": {},
   "source": [
    "Descarga de modelos (.bin) -varios GByte-: Download pre-trained models\n",
    "\n",
    "English word vectors\n",
    "Pre-trained on English webcrawl and Wikipedia\n",
    "link: https://fasttext.cc/docs/en/english-vectors.html\n",
    "\n",
    "Multi-lingual word vectors\n",
    "Pre-trained models for 157 different languages\n",
    "link: https://fasttext.cc/docs/en/crawl-vectors.html"
   ]
  },
  {
   "cell_type": "code",
   "execution_count": null,
   "metadata": {},
   "outputs": [],
   "source": [
    "#importamos la libreria\n",
    "\n",
    "import fasttext"
   ]
  },
  {
   "cell_type": "code",
   "execution_count": null,
   "metadata": {},
   "outputs": [],
   "source": [
    "#cargamos el modelo en ingles, ya entrenado\n",
    "\n",
    "fModel = fasttext.load_model(r\"C:\\...ruta.....\\cc.en.300.bin\")"
   ]
  },
  {
   "cell_type": "code",
   "execution_count": null,
   "metadata": {},
   "outputs": [],
   "source": [
    "#buscamos los vecinos más cercanos de la palabra 'love'\n",
    "\n",
    "fModel.get_nearest_neighbors(\"love\")"
   ]
  },
  {
   "cell_type": "code",
   "execution_count": null,
   "metadata": {},
   "outputs": [],
   "source": [
    "#buscamos sub-palabras de 'car' por ejemplo\n",
    "\n",
    "fModel.get_subwords('car')"
   ]
  },
  {
   "cell_type": "code",
   "execution_count": null,
   "metadata": {},
   "outputs": [],
   "source": [
    "#buscamos analogías, de la 3er palabra, tomando como relación entre la 1ra y la 2da palabra dadas.\n",
    "#k=3 -> cantidad de repuestas\n",
    "\n",
    "fModel.get_analogies('Buenos Aires','Argentina','Montevideo',k=3)"
   ]
  },
  {
   "cell_type": "markdown",
   "metadata": {},
   "source": [
    "FIN"
   ]
  }
 ],
 "metadata": {
  "kernelspec": {
   "display_name": "base",
   "language": "python",
   "name": "python3"
  },
  "language_info": {
   "name": "python",
   "version": "3.9.13"
  }
 },
 "nbformat": 4,
 "nbformat_minor": 2
}
