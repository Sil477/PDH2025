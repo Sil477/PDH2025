{
 "cells": [
  {
   "cell_type": "code",
   "execution_count": 1,
   "id": "299c0589",
   "metadata": {},
   "outputs": [],
   "source": [
    "#  https://www.kaggle.com/datasets/rtatman/pretrained-word-vectors-for-spanish"
   ]
  },
  {
   "cell_type": "code",
   "execution_count": 2,
   "id": "d10fcb28",
   "metadata": {},
   "outputs": [
    {
     "name": "stderr",
     "output_type": "stream",
     "text": [
      "WARNING: Ignoring invalid distribution ~atplotlib (C:\\Users\\sil46\\anaconda3\\Lib\\site-packages)\n",
      "WARNING: Ignoring invalid distribution ~atplotlib (C:\\Users\\sil46\\anaconda3\\Lib\\site-packages)\n",
      "WARNING: Ignoring invalid distribution ~atplotlib (C:\\Users\\sil46\\anaconda3\\Lib\\site-packages)\n",
      "\n",
      "[notice] A new release of pip is available: 24.2 -> 25.0.1\n",
      "[notice] To update, run: python.exe -m pip install --upgrade pip\n"
     ]
    }
   ],
   "source": [
    "!pip install gensim -q"
   ]
  },
  {
   "cell_type": "code",
   "execution_count": 3,
   "id": "00176b64",
   "metadata": {},
   "outputs": [],
   "source": [
    "import gensim"
   ]
  },
  {
   "cell_type": "code",
   "execution_count": 4,
   "id": "aa28ff20",
   "metadata": {},
   "outputs": [
    {
     "ename": "FileNotFoundError",
     "evalue": "[Errno 2] No such file or directory: 'SBW-vectors-300-min5.txt'",
     "output_type": "error",
     "traceback": [
      "\u001b[1;31m---------------------------------------------------------------------------\u001b[0m",
      "\u001b[1;31mFileNotFoundError\u001b[0m                         Traceback (most recent call last)",
      "Cell \u001b[1;32mIn[4], line 1\u001b[0m\n\u001b[1;32m----> 1\u001b[0m vectores \u001b[38;5;241m=\u001b[39m gensim\u001b[38;5;241m.\u001b[39mmodels\u001b[38;5;241m.\u001b[39mKeyedVectors\u001b[38;5;241m.\u001b[39mload_word2vec_format(\u001b[38;5;124m'\u001b[39m\u001b[38;5;124mSBW-vectors-300-min5.txt\u001b[39m\u001b[38;5;124m'\u001b[39m)\n",
      "File \u001b[1;32m~\\anaconda3\\Lib\\site-packages\\gensim\\models\\keyedvectors.py:1719\u001b[0m, in \u001b[0;36mKeyedVectors.load_word2vec_format\u001b[1;34m(cls, fname, fvocab, binary, encoding, unicode_errors, limit, datatype, no_header)\u001b[0m\n\u001b[0;32m   1672\u001b[0m \u001b[38;5;129m@classmethod\u001b[39m\n\u001b[0;32m   1673\u001b[0m \u001b[38;5;28;01mdef\u001b[39;00m \u001b[38;5;21mload_word2vec_format\u001b[39m(\n\u001b[0;32m   1674\u001b[0m         \u001b[38;5;28mcls\u001b[39m, fname, fvocab\u001b[38;5;241m=\u001b[39m\u001b[38;5;28;01mNone\u001b[39;00m, binary\u001b[38;5;241m=\u001b[39m\u001b[38;5;28;01mFalse\u001b[39;00m, encoding\u001b[38;5;241m=\u001b[39m\u001b[38;5;124m'\u001b[39m\u001b[38;5;124mutf8\u001b[39m\u001b[38;5;124m'\u001b[39m, unicode_errors\u001b[38;5;241m=\u001b[39m\u001b[38;5;124m'\u001b[39m\u001b[38;5;124mstrict\u001b[39m\u001b[38;5;124m'\u001b[39m,\n\u001b[0;32m   1675\u001b[0m         limit\u001b[38;5;241m=\u001b[39m\u001b[38;5;28;01mNone\u001b[39;00m, datatype\u001b[38;5;241m=\u001b[39mREAL, no_header\u001b[38;5;241m=\u001b[39m\u001b[38;5;28;01mFalse\u001b[39;00m,\n\u001b[0;32m   1676\u001b[0m     ):\n\u001b[0;32m   1677\u001b[0m \u001b[38;5;250m    \u001b[39m\u001b[38;5;124;03m\"\"\"Load KeyedVectors from a file produced by the original C word2vec-tool format.\u001b[39;00m\n\u001b[0;32m   1678\u001b[0m \n\u001b[0;32m   1679\u001b[0m \u001b[38;5;124;03m    Warnings\u001b[39;00m\n\u001b[1;32m   (...)\u001b[0m\n\u001b[0;32m   1717\u001b[0m \n\u001b[0;32m   1718\u001b[0m \u001b[38;5;124;03m    \"\"\"\u001b[39;00m\n\u001b[1;32m-> 1719\u001b[0m     \u001b[38;5;28;01mreturn\u001b[39;00m _load_word2vec_format(\n\u001b[0;32m   1720\u001b[0m         \u001b[38;5;28mcls\u001b[39m, fname, fvocab\u001b[38;5;241m=\u001b[39mfvocab, binary\u001b[38;5;241m=\u001b[39mbinary, encoding\u001b[38;5;241m=\u001b[39mencoding, unicode_errors\u001b[38;5;241m=\u001b[39municode_errors,\n\u001b[0;32m   1721\u001b[0m         limit\u001b[38;5;241m=\u001b[39mlimit, datatype\u001b[38;5;241m=\u001b[39mdatatype, no_header\u001b[38;5;241m=\u001b[39mno_header,\n\u001b[0;32m   1722\u001b[0m     )\n",
      "File \u001b[1;32m~\\anaconda3\\Lib\\site-packages\\gensim\\models\\keyedvectors.py:2048\u001b[0m, in \u001b[0;36m_load_word2vec_format\u001b[1;34m(cls, fname, fvocab, binary, encoding, unicode_errors, limit, datatype, no_header, binary_chunk_size)\u001b[0m\n\u001b[0;32m   2045\u001b[0m             counts[word] \u001b[38;5;241m=\u001b[39m \u001b[38;5;28mint\u001b[39m(count)\n\u001b[0;32m   2047\u001b[0m logger\u001b[38;5;241m.\u001b[39minfo(\u001b[38;5;124m\"\u001b[39m\u001b[38;5;124mloading projection weights from \u001b[39m\u001b[38;5;132;01m%s\u001b[39;00m\u001b[38;5;124m\"\u001b[39m, fname)\n\u001b[1;32m-> 2048\u001b[0m \u001b[38;5;28;01mwith\u001b[39;00m utils\u001b[38;5;241m.\u001b[39mopen(fname, \u001b[38;5;124m'\u001b[39m\u001b[38;5;124mrb\u001b[39m\u001b[38;5;124m'\u001b[39m) \u001b[38;5;28;01mas\u001b[39;00m fin:\n\u001b[0;32m   2049\u001b[0m     \u001b[38;5;28;01mif\u001b[39;00m no_header:\n\u001b[0;32m   2050\u001b[0m         \u001b[38;5;66;03m# deduce both vocab_size & vector_size from 1st pass over file\u001b[39;00m\n\u001b[0;32m   2051\u001b[0m         \u001b[38;5;28;01mif\u001b[39;00m binary:\n",
      "File \u001b[1;32m~\\anaconda3\\Lib\\site-packages\\smart_open\\smart_open_lib.py:188\u001b[0m, in \u001b[0;36mopen\u001b[1;34m(uri, mode, buffering, encoding, errors, newline, closefd, opener, ignore_ext, compression, transport_params)\u001b[0m\n\u001b[0;32m    185\u001b[0m \u001b[38;5;28;01mif\u001b[39;00m transport_params \u001b[38;5;129;01mis\u001b[39;00m \u001b[38;5;28;01mNone\u001b[39;00m:\n\u001b[0;32m    186\u001b[0m     transport_params \u001b[38;5;241m=\u001b[39m {}\n\u001b[1;32m--> 188\u001b[0m fobj \u001b[38;5;241m=\u001b[39m _shortcut_open(\n\u001b[0;32m    189\u001b[0m     uri,\n\u001b[0;32m    190\u001b[0m     mode,\n\u001b[0;32m    191\u001b[0m     compression\u001b[38;5;241m=\u001b[39mcompression,\n\u001b[0;32m    192\u001b[0m     buffering\u001b[38;5;241m=\u001b[39mbuffering,\n\u001b[0;32m    193\u001b[0m     encoding\u001b[38;5;241m=\u001b[39mencoding,\n\u001b[0;32m    194\u001b[0m     errors\u001b[38;5;241m=\u001b[39merrors,\n\u001b[0;32m    195\u001b[0m     newline\u001b[38;5;241m=\u001b[39mnewline,\n\u001b[0;32m    196\u001b[0m )\n\u001b[0;32m    197\u001b[0m \u001b[38;5;28;01mif\u001b[39;00m fobj \u001b[38;5;129;01mis\u001b[39;00m \u001b[38;5;129;01mnot\u001b[39;00m \u001b[38;5;28;01mNone\u001b[39;00m:\n\u001b[0;32m    198\u001b[0m     \u001b[38;5;28;01mreturn\u001b[39;00m fobj\n",
      "File \u001b[1;32m~\\anaconda3\\Lib\\site-packages\\smart_open\\smart_open_lib.py:361\u001b[0m, in \u001b[0;36m_shortcut_open\u001b[1;34m(uri, mode, compression, buffering, encoding, errors, newline)\u001b[0m\n\u001b[0;32m    358\u001b[0m \u001b[38;5;28;01mif\u001b[39;00m errors \u001b[38;5;129;01mand\u001b[39;00m \u001b[38;5;124m'\u001b[39m\u001b[38;5;124mb\u001b[39m\u001b[38;5;124m'\u001b[39m \u001b[38;5;129;01mnot\u001b[39;00m \u001b[38;5;129;01min\u001b[39;00m mode:\n\u001b[0;32m    359\u001b[0m     open_kwargs[\u001b[38;5;124m'\u001b[39m\u001b[38;5;124merrors\u001b[39m\u001b[38;5;124m'\u001b[39m] \u001b[38;5;241m=\u001b[39m errors\n\u001b[1;32m--> 361\u001b[0m \u001b[38;5;28;01mreturn\u001b[39;00m _builtin_open(local_path, mode, buffering\u001b[38;5;241m=\u001b[39mbuffering, \u001b[38;5;241m*\u001b[39m\u001b[38;5;241m*\u001b[39mopen_kwargs)\n",
      "\u001b[1;31mFileNotFoundError\u001b[0m: [Errno 2] No such file or directory: 'SBW-vectors-300-min5.txt'"
     ]
    }
   ],
   "source": [
    "vectores = gensim.models.KeyedVectors.load_word2vec_format('SBW-vectors-300-min5.txt')"
   ]
  },
  {
   "cell_type": "code",
   "execution_count": 3,
   "id": "0c3ee200",
   "metadata": {},
   "outputs": [],
   "source": [
    "def analogias(v1, v2, v3):\n",
    "    similitud = vectores.most_similar(positive=[v1, v3], negative=[v2])\n",
    "    print(f\"{v1} es a {v2} como {similitud[0][0]} es a {v3}\") "
   ]
  },
  {
   "cell_type": "code",
   "execution_count": 4,
   "id": "55326fab",
   "metadata": {},
   "outputs": [
    {
     "name": "stdout",
     "output_type": "stream",
     "text": [
      "rey es a hombre como reina es a mujer\n"
     ]
    }
   ],
   "source": [
    "analogias('rey', 'hombre', 'mujer')"
   ]
  },
  {
   "cell_type": "code",
   "execution_count": 5,
   "id": "b7a6ee66",
   "metadata": {},
   "outputs": [
    {
     "name": "stdout",
     "output_type": "stream",
     "text": [
      "alemania es a alemán como España es a español\n"
     ]
    }
   ],
   "source": [
    "analogias('alemania', 'alemán', 'español')"
   ]
  },
  {
   "cell_type": "code",
   "execution_count": 6,
   "id": "248bdc3d",
   "metadata": {},
   "outputs": [
    {
     "name": "stdout",
     "output_type": "stream",
     "text": [
      "pan es a trigo como yogur es a leche\n"
     ]
    }
   ],
   "source": [
    "analogias('pan', 'trigo', 'leche')"
   ]
  },
  {
   "cell_type": "code",
   "execution_count": 7,
   "id": "12ed6e24",
   "metadata": {},
   "outputs": [
    {
     "name": "stdout",
     "output_type": "stream",
     "text": [
      "vaca es a leche como gallina es a huevo\n"
     ]
    }
   ],
   "source": [
    "analogias('vaca', 'leche', 'huevo')"
   ]
  },
  {
   "cell_type": "code",
   "execution_count": 8,
   "id": "484d5623",
   "metadata": {},
   "outputs": [
    {
     "name": "stdout",
     "output_type": "stream",
     "text": [
      "chimenea es a humo como desagüe es a agua\n"
     ]
    }
   ],
   "source": [
    "analogias('chimenea', 'humo', 'agua')"
   ]
  },
  {
   "cell_type": "code",
   "execution_count": 13,
   "id": "0c598061",
   "metadata": {},
   "outputs": [
    {
     "name": "stdout",
     "output_type": "stream",
     "text": [
      "carnívoro es a carne como sinápsido es a herbívoro\n"
     ]
    }
   ],
   "source": [
    "analogias('carnívoro', 'carne', 'herbívoro')"
   ]
  },
  {
   "cell_type": "code",
   "execution_count": 14,
   "id": "df737f8a",
   "metadata": {},
   "outputs": [
    {
     "name": "stdout",
     "output_type": "stream",
     "text": [
      "Chile es a Argentina como nipón es a Japón\n"
     ]
    }
   ],
   "source": [
    "analogias('Chile', 'Argentina', 'Japón')"
   ]
  },
  {
   "cell_type": "code",
   "execution_count": 17,
   "id": "1fc329ed",
   "metadata": {},
   "outputs": [
    {
     "name": "stdout",
     "output_type": "stream",
     "text": [
      "Madrid es a España como Milán es a Italia\n"
     ]
    }
   ],
   "source": [
    "analogias('Madrid', 'España', 'Italia')"
   ]
  },
  {
   "cell_type": "code",
   "execution_count": 18,
   "id": "3d6e77b6",
   "metadata": {},
   "outputs": [],
   "source": [
    "def cercanos(v):\n",
    "    vecinos = vectores.most_similar(positive=[v])\n",
    "    print(f\"vecinos de: {v}\")\n",
    "    for word, score in vecinos:\n",
    "        print(\"\\t%s\" % word)"
   ]
  },
  {
   "cell_type": "code",
   "execution_count": 19,
   "id": "52f4de3f",
   "metadata": {},
   "outputs": [
    {
     "name": "stdout",
     "output_type": "stream",
     "text": [
      "vecinos de: rey\n",
      "\tmonarca\n",
      "\treyes\n",
      "\treino\n",
      "\tpríncipe\n",
      "\treina\n",
      "\tHarthacnut\n",
      "\tRagnald\n",
      "\tSverkersson\n",
      "\tregente\n",
      "\tHardeknut\n"
     ]
    }
   ],
   "source": [
    "cercanos('rey')"
   ]
  },
  {
   "cell_type": "code",
   "execution_count": 20,
   "id": "b47eec18",
   "metadata": {},
   "outputs": [
    {
     "name": "stdout",
     "output_type": "stream",
     "text": [
      "vecinos de: Chile\n",
      "\tchileno\n",
      "\tPerú\n",
      "\tArgentina\n",
      "\tchilena\n",
      "\tValparaíso\n",
      "\tCoquimbo\n",
      "\tBolivia\n",
      "\tEcuador\n",
      "\tAntofagasta\n",
      "\tchilenos\n"
     ]
    }
   ],
   "source": [
    "cercanos('Chile')"
   ]
  },
  {
   "cell_type": "code",
   "execution_count": 21,
   "id": "79fefcfc",
   "metadata": {},
   "outputs": [
    {
     "name": "stdout",
     "output_type": "stream",
     "text": [
      "vecinos de: chile\n",
      "\ttomate\n",
      "\tjalapeño\n",
      "\tchiles\n",
      "\tají\n",
      "\tjitomate\n",
      "\tpiquín\n",
      "\tcilantro\n",
      "\taguacate\n",
      "\tcebolla\n",
      "\tfrijol\n"
     ]
    }
   ],
   "source": [
    "cercanos('chile')"
   ]
  },
  {
   "cell_type": "code",
   "execution_count": 22,
   "id": "df1ba14f",
   "metadata": {},
   "outputs": [
    {
     "name": "stdout",
     "output_type": "stream",
     "text": [
      "vecinos de: vaca\n",
      "\toveja\n",
      "\tcabra\n",
      "\tleche\n",
      "\tternera\n",
      "\tcarne\n",
      "\tvacas\n",
      "\ttarine\n",
      "\tcerdo\n",
      "\tmontbéliarde\n",
      "\tcordero\n"
     ]
    }
   ],
   "source": [
    "cercanos('vaca')"
   ]
  },
  {
   "cell_type": "code",
   "execution_count": 23,
   "id": "02a627e6",
   "metadata": {},
   "outputs": [
    {
     "name": "stdout",
     "output_type": "stream",
     "text": [
      "vecinos de: carnívoro\n",
      "\therbívoro\n",
      "\tmamífero\n",
      "\treptil\n",
      "\tinsectívoro\n",
      "\tcarnívoros\n",
      "\tomnívoro\n",
      "\tsemiacuático\n",
      "\tpiscívoro\n",
      "\tmarsupial\n",
      "\tmustélido\n"
     ]
    }
   ],
   "source": [
    "cercanos('carnívoro')"
   ]
  },
  {
   "cell_type": "code",
   "execution_count": 24,
   "id": "12cfa30c",
   "metadata": {},
   "outputs": [
    {
     "name": "stdout",
     "output_type": "stream",
     "text": [
      "vecinos de: vegetariano\n",
      "\tvegetariana\n",
      "\tvegano\n",
      "\tvegetarianismo\n",
      "\tvegetarianos\n",
      "\tvegana\n",
      "\tabstemio\n",
      "\tveganismo\n",
      "\tcrudiveganismo\n",
      "\tveganos\n",
      "\tcrudivorismo\n"
     ]
    }
   ],
   "source": [
    "cercanos('vegetariano')"
   ]
  },
  {
   "cell_type": "code",
   "execution_count": null,
   "id": "74f07140",
   "metadata": {},
   "outputs": [],
   "source": []
  }
 ],
 "metadata": {
  "kernelspec": {
   "display_name": "Python 3 (ipykernel)",
   "language": "python",
   "name": "python3"
  },
  "language_info": {
   "codemirror_mode": {
    "name": "ipython",
    "version": 3
   },
   "file_extension": ".py",
   "mimetype": "text/x-python",
   "name": "python",
   "nbconvert_exporter": "python",
   "pygments_lexer": "ipython3",
   "version": "3.11.7"
  }
 },
 "nbformat": 4,
 "nbformat_minor": 5
}
