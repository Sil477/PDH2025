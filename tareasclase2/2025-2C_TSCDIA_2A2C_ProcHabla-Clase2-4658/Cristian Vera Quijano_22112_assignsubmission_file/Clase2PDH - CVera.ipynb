version https://git-lfs.github.com/spec/v1
oid sha256:4d8c76c6775cb55c52da65332dd660511314ee5130d47a6f97d7bfb7f2e1af6b
size 116133
