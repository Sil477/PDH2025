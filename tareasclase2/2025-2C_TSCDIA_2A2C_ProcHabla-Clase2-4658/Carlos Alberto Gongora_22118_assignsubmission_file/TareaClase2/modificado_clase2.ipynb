version https://git-lfs.github.com/spec/v1
oid sha256:727a7291875a8f20a83ace39dc23c4535f8b6ce1f26f2a9d74675fbe8b96089b
size 265142
