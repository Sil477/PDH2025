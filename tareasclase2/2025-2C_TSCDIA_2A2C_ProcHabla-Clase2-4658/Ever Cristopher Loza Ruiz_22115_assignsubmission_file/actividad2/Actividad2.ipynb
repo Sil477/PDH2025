version https://git-lfs.github.com/spec/v1
oid sha256:abf2f611b975f884bdc085ad54787a4e31f59af555c00a5204a184b504d532b6
size 17960
