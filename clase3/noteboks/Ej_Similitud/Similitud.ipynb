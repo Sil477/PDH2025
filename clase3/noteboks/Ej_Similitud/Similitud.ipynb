{
 "cells": [
  {
   "cell_type": "markdown",
   "id": "c6adb965",
   "metadata": {},
   "source": [
    "# Analogías con embeddings en español\n",
    "En este ejercicio vamos a trabajar con modelos de word embeddings en español para explorar su capacidad de capturar relaciones semánticas entre palabras. Uno de los usos más interesantes de los embeddings es la posibilidad de resolver analogías del tipo:\n",
    "\n",
    "“Rey es a hombre como ¿? es a mujer” → Resultado esperado: reina\n",
    "\n",
    "Este tipo de operación se basa en relaciones vectoriales dentro del espacio semántico aprendido por el modelo. Otro ejemplo de analogía sería:\n",
    "\n",
    "“España es al español como Italia es al ¿?” → Resultado esperado: italiano\n",
    "\n",
    "El objetivo de este ejercicio es justamente probar y observar cómo el modelo puede inferir este tipo de relaciones a partir de los vectores de palabras. Para eso, vamos a trabajar con Python y un modelo preentrenado en español.\n",
    "\n",
    "¡Vamos al código!"
   ]
  },
  {
   "cell_type": "markdown",
   "id": "2a32cdf2",
   "metadata": {},
   "source": [
    "# Modelo preentrenado de vectores de palabras en español. \n",
    "Este modelo fue entrenado sobre un gran corpus y está disponible #públicamente en Kaggle: "
   ]
  },
  {
   "cell_type": "code",
   "execution_count": 1,
   "id": "f6fafb49",
   "metadata": {},
   "outputs": [],
   "source": [
    "#https://www.kaggle.com/datasets/rtatman/pretrained-word-vectors-for-spanish"
   ]
  },
  {
   "cell_type": "markdown",
   "id": "ef87a2d1",
   "metadata": {},
   "source": [
    "# Instalación de librerías necesarias"
   ]
  },
  {
   "cell_type": "code",
   "execution_count": 2,
   "id": "d10fcb28",
   "metadata": {},
   "outputs": [
    {
     "name": "stderr",
     "output_type": "stream",
     "text": [
      "WARNING: Ignoring invalid distribution ~atplotlib (C:\\Users\\sil46\\anaconda3\\Lib\\site-packages)\n",
      "WARNING: Ignoring invalid distribution ~atplotlib (C:\\Users\\sil46\\anaconda3\\Lib\\site-packages)\n",
      "WARNING: Ignoring invalid distribution ~atplotlib (C:\\Users\\sil46\\anaconda3\\Lib\\site-packages)\n",
      "\n",
      "[notice] A new release of pip is available: 24.2 -> 25.0.1\n",
      "[notice] To update, run: python.exe -m pip install --upgrade pip\n"
     ]
    }
   ],
   "source": [
    "#Instalamos la librería gensim, que nos permite trabajar con modelos de word embeddings\n",
    "!pip install gensim -q"
   ]
  },
  {
   "cell_type": "markdown",
   "id": "05d46741",
   "metadata": {},
   "source": [
    "# Carga del modelo de vectores"
   ]
  },
  {
   "cell_type": "code",
   "execution_count": 3,
   "id": "cb7d2eae",
   "metadata": {},
   "outputs": [],
   "source": [
    "# Cargamos los vectores en formato Word2Vec\n",
    "# Asegurate de tener descargado el archivo 'SBW-vectors-300-min5.txt'"
   ]
  },
  {
   "cell_type": "code",
   "execution_count": 8,
   "id": "00176b64",
   "metadata": {},
   "outputs": [],
   "source": [
    "import gensim"
   ]
  },
  {
   "cell_type": "code",
   "execution_count": 9,
   "id": "aa28ff20",
   "metadata": {},
   "outputs": [],
   "source": [
    "vectores = gensim.models.KeyedVectors.load_word2vec_format('SBW-vectors-300-min5.txt')"
   ]
  },
  {
   "cell_type": "markdown",
   "id": "df335a7e",
   "metadata": {},
   "source": [
    "Este archivo contiene los vectores de palabras entrenados sobre un corpus amplio en español, con 300 dimensiones por palabra."
   ]
  },
  {
   "cell_type": "markdown",
   "id": "fe65b252",
   "metadata": {},
   "source": [
    "# Función para resolver analogías"
   ]
  },
  {
   "cell_type": "code",
   "execution_count": 10,
   "id": "0c3ee200",
   "metadata": {},
   "outputs": [],
   "source": [
    "def analogias(v1, v2, v3):\n",
    "    \"\"\"\n",
    "    Realiza una analogía del tipo: v1 es a v2 como ¿? es a v3.\n",
    "    Por ejemplo: rey es a hombre como ¿? es a mujer → reina\n",
    "    \"\"\"\n",
    "    similitud = vectores.most_similar(positive=[v1, v3], negative=[v2]) #La función most_similar() de Gensim toma listas llamadas positive y negative porque hace una suma ponderada de vectores:\n",
    "    print(f\"{v1} es a {v2} como {similitud[0][0]} es a {v3}\") "
   ]
  },
  {
   "cell_type": "markdown",
   "id": "41ed6709",
   "metadata": {},
   "source": [
    "La función toma tres palabras y aplica la operación vectorial:\n",
    "v1 - v2 + v3 ≈ ?, y devuelve la palabra más cercana a ese resultado."
   ]
  },
  {
   "cell_type": "markdown",
   "id": "e0a0a546",
   "metadata": {},
   "source": [
    "# Probamos algunas analogías interesantes"
   ]
  },
  {
   "cell_type": "code",
   "execution_count": 12,
   "id": "55326fab",
   "metadata": {},
   "outputs": [
    {
     "name": "stdout",
     "output_type": "stream",
     "text": [
      "rey es a hombre como reina es a mujer\n"
     ]
    }
   ],
   "source": [
    "analogias('rey', 'hombre', 'mujer')"
   ]
  },
  {
   "cell_type": "code",
   "execution_count": 13,
   "id": "b7a6ee66",
   "metadata": {},
   "outputs": [
    {
     "name": "stdout",
     "output_type": "stream",
     "text": [
      "alemania es a alemán como España es a español\n"
     ]
    }
   ],
   "source": [
    "analogias('alemania', 'alemán', 'español')"
   ]
  },
  {
   "cell_type": "code",
   "execution_count": 14,
   "id": "248bdc3d",
   "metadata": {},
   "outputs": [
    {
     "name": "stdout",
     "output_type": "stream",
     "text": [
      "pan es a trigo como yogur es a leche\n"
     ]
    }
   ],
   "source": [
    "analogias('pan', 'trigo', 'leche')"
   ]
  },
  {
   "cell_type": "code",
   "execution_count": 18,
   "id": "12ed6e24",
   "metadata": {},
   "outputs": [
    {
     "name": "stdout",
     "output_type": "stream",
     "text": [
      "vaca es a leche como chancho es a gallina\n"
     ]
    }
   ],
   "source": [
    "analogias('vaca', 'leche', 'gallina')"
   ]
  },
  {
   "cell_type": "code",
   "execution_count": 20,
   "id": "484d5623",
   "metadata": {},
   "outputs": [
    {
     "name": "stdout",
     "output_type": "stream",
     "text": [
      "chimenea es a humo como patinillo es a canilla\n"
     ]
    }
   ],
   "source": [
    "analogias('chimenea', 'humo', 'canilla')"
   ]
  },
  {
   "cell_type": "code",
   "execution_count": 12,
   "id": "0c598061",
   "metadata": {},
   "outputs": [
    {
     "name": "stdout",
     "output_type": "stream",
     "text": [
      "carnívoro es a carne como sinápsido es a herbívoro\n"
     ]
    }
   ],
   "source": [
    "analogias('carnívoro', 'carne', 'herbívoro')"
   ]
  },
  {
   "cell_type": "code",
   "execution_count": 13,
   "id": "df737f8a",
   "metadata": {},
   "outputs": [
    {
     "name": "stdout",
     "output_type": "stream",
     "text": [
      "Chile es a Argentina como nipón es a Japón\n"
     ]
    }
   ],
   "source": [
    "analogias('Chile', 'Argentina', 'Japón')"
   ]
  },
  {
   "cell_type": "code",
   "execution_count": 24,
   "id": "1fc329ed",
   "metadata": {},
   "outputs": [
    {
     "name": "stdout",
     "output_type": "stream",
     "text": [
      "cordoba es a Argentina como milan es a Milan\n"
     ]
    }
   ],
   "source": [
    "analogias('cordoba', 'Argentina', 'Milan')"
   ]
  },
  {
   "cell_type": "markdown",
   "id": "db193960",
   "metadata": {},
   "source": [
    " Algunas respuestas pueden ser sorprendentes, pero muchas muestran cómo el modelo captura patrones reales de lenguaje y conocimiento."
   ]
  },
  {
   "cell_type": "markdown",
   "id": "8ffb3b41",
   "metadata": {},
   "source": [
    "# Función para explorar palabras cercanas"
   ]
  },
  {
   "cell_type": "code",
   "execution_count": 25,
   "id": "3d6e77b6",
   "metadata": {},
   "outputs": [],
   "source": [
    "def cercanos(v):\n",
    "    \"\"\"\n",
    "    Muestra las palabras más cercanas a una dada, según la similitud de vectores.\n",
    "    \"\"\"\n",
    "    vecinos = vectores.most_similar(positive=[v])\n",
    "    print(f\"vecinos de: {v}\")\n",
    "    for word, score in vecinos:\n",
    "        print(\"\\t%s\" % word)"
   ]
  },
  {
   "cell_type": "markdown",
   "id": "07dca391",
   "metadata": {},
   "source": [
    "Esta función sirve para explorar el \"barrio semántico\" de una palabra, es decir, qué palabras el modelo considera similares o relacionadas."
   ]
  },
  {
   "cell_type": "markdown",
   "id": "d3a21115",
   "metadata": {},
   "source": [
    "# Probamos la función con distintas palabras"
   ]
  },
  {
   "cell_type": "code",
   "execution_count": 26,
   "id": "52f4de3f",
   "metadata": {},
   "outputs": [
    {
     "name": "stdout",
     "output_type": "stream",
     "text": [
      "vecinos de: rey\n",
      "\tmonarca\n",
      "\treyes\n",
      "\treino\n",
      "\tpríncipe\n",
      "\treina\n",
      "\tHarthacnut\n",
      "\tRagnald\n",
      "\tSverkersson\n",
      "\tregente\n",
      "\tHardeknut\n"
     ]
    }
   ],
   "source": [
    "cercanos('rey')"
   ]
  },
  {
   "cell_type": "code",
   "execution_count": 27,
   "id": "b47eec18",
   "metadata": {},
   "outputs": [
    {
     "name": "stdout",
     "output_type": "stream",
     "text": [
      "vecinos de: Chile\n",
      "\tchileno\n",
      "\tPerú\n",
      "\tArgentina\n",
      "\tchilena\n",
      "\tValparaíso\n",
      "\tCoquimbo\n",
      "\tBolivia\n",
      "\tEcuador\n",
      "\tAntofagasta\n",
      "\tchilenos\n"
     ]
    }
   ],
   "source": [
    "cercanos('Chile')"
   ]
  },
  {
   "cell_type": "code",
   "execution_count": 28,
   "id": "79fefcfc",
   "metadata": {},
   "outputs": [
    {
     "name": "stdout",
     "output_type": "stream",
     "text": [
      "vecinos de: chile\n",
      "\ttomate\n",
      "\tjalapeño\n",
      "\tchiles\n",
      "\tají\n",
      "\tjitomate\n",
      "\tpiquín\n",
      "\tcilantro\n",
      "\taguacate\n",
      "\tcebolla\n",
      "\tfrijol\n"
     ]
    }
   ],
   "source": [
    "cercanos('chile')"
   ]
  },
  {
   "cell_type": "markdown",
   "id": "4219cb88",
   "metadata": {},
   "source": [
    "Notá que 'Chile' (con mayúscula) remite al país, mientras que 'chile' (en minúscula) refiere al alimento. Esto muestra cómo el modelo puede capturar diferencias de contexto gracias al entrenamiento."
   ]
  },
  {
   "cell_type": "code",
   "execution_count": 35,
   "id": "df1ba14f",
   "metadata": {},
   "outputs": [
    {
     "name": "stdout",
     "output_type": "stream",
     "text": [
      "vecinos de: Argentinos\n",
      "\tBanfield\n",
      "\tJuniors\n",
      "\tNewells\n",
      "\tLanús\n",
      "\tTemperley\n",
      "\tChacarita\n",
      "\tPlatense\n",
      "\tTrenes\n",
      "\tTalleres\n",
      "\tJuniorsDIGITO\n"
     ]
    }
   ],
   "source": [
    "cercanos('Argentinos')"
   ]
  },
  {
   "cell_type": "code",
   "execution_count": 20,
   "id": "02a627e6",
   "metadata": {},
   "outputs": [
    {
     "name": "stdout",
     "output_type": "stream",
     "text": [
      "vecinos de: carnívoro\n",
      "\therbívoro\n",
      "\tmamífero\n",
      "\treptil\n",
      "\tinsectívoro\n",
      "\tcarnívoros\n",
      "\tomnívoro\n",
      "\tsemiacuático\n",
      "\tpiscívoro\n",
      "\tmarsupial\n",
      "\tmustélido\n"
     ]
    }
   ],
   "source": [
    "cercanos('carnívoro')"
   ]
  },
  {
   "cell_type": "code",
   "execution_count": 21,
   "id": "12cfa30c",
   "metadata": {},
   "outputs": [
    {
     "name": "stdout",
     "output_type": "stream",
     "text": [
      "vecinos de: vegetariano\n",
      "\tvegetariana\n",
      "\tvegano\n",
      "\tvegetarianismo\n",
      "\tvegetarianos\n",
      "\tvegana\n",
      "\tabstemio\n",
      "\tveganismo\n",
      "\tcrudiveganismo\n",
      "\tveganos\n",
      "\tcrudivorismo\n"
     ]
    }
   ],
   "source": [
    "cercanos('vegetariano')"
   ]
  },
  {
   "cell_type": "markdown",
   "id": "129273f9",
   "metadata": {},
   "source": [
    "# Conclusiones\n",
    "Este ejercicio nos permite:\n",
    "\n",
    "- Ver en acción cómo los embeddings capturan relaciones semánticas complejas.\n",
    "\n",
    "- Aplicar operaciones vectoriales simples para explorar analogías y sinónimos.\n",
    "\n",
    "- Usar modelos preentrenados con Gensim para tareas de procesamiento del lenguaje natural.\n",
    "\n"
   ]
  },
  {
   "cell_type": "code",
   "execution_count": null,
   "id": "4b94b54e",
   "metadata": {},
   "outputs": [],
   "source": []
  }
 ],
 "metadata": {
  "kernelspec": {
   "display_name": "Python 3 (ipykernel)",
   "language": "python",
   "name": "python3"
  },
  "language_info": {
   "codemirror_mode": {
    "name": "ipython",
    "version": 3
   },
   "file_extension": ".py",
   "mimetype": "text/x-python",
   "name": "python",
   "nbconvert_exporter": "python",
   "pygments_lexer": "ipython3",
   "version": "3.11.7"
  }
 },
 "nbformat": 4,
 "nbformat_minor": 5
}
